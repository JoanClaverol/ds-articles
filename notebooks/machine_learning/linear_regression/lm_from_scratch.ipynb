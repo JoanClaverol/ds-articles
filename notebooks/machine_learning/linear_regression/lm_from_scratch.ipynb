{
 "cells": [
  {
   "cell_type": "markdown",
   "metadata": {},
   "source": [
    "# Building a Linear Regression from scratch\n",
    "\n",
    "The goal of this notebook is to build a linear regression model from scratch. We will use the diamonds dataset to do this task. The diamonds dataset contains the prices and other attributes of almost 54,000 diamonds. This dataset is available in the ggplot2 package in R, but we will use the version of the dataset available in the pydataset package in Python."
   ]
  },
  {
   "cell_type": "code",
   "execution_count": 4,
   "metadata": {},
   "outputs": [
    {
     "data": {
      "text/html": [
       "<div>\n",
       "<style scoped>\n",
       "    .dataframe tbody tr th:only-of-type {\n",
       "        vertical-align: middle;\n",
       "    }\n",
       "\n",
       "    .dataframe tbody tr th {\n",
       "        vertical-align: top;\n",
       "    }\n",
       "\n",
       "    .dataframe thead th {\n",
       "        text-align: right;\n",
       "    }\n",
       "</style>\n",
       "<table border=\"1\" class=\"dataframe\">\n",
       "  <thead>\n",
       "    <tr style=\"text-align: right;\">\n",
       "      <th></th>\n",
       "      <th>carat</th>\n",
       "      <th>cut</th>\n",
       "      <th>color</th>\n",
       "      <th>clarity</th>\n",
       "      <th>depth</th>\n",
       "      <th>table</th>\n",
       "      <th>price</th>\n",
       "      <th>x</th>\n",
       "      <th>y</th>\n",
       "      <th>z</th>\n",
       "    </tr>\n",
       "  </thead>\n",
       "  <tbody>\n",
       "    <tr>\n",
       "      <th>0</th>\n",
       "      <td>0.23</td>\n",
       "      <td>Ideal</td>\n",
       "      <td>E</td>\n",
       "      <td>SI2</td>\n",
       "      <td>61.5</td>\n",
       "      <td>55.0</td>\n",
       "      <td>326</td>\n",
       "      <td>3.95</td>\n",
       "      <td>3.98</td>\n",
       "      <td>2.43</td>\n",
       "    </tr>\n",
       "    <tr>\n",
       "      <th>1</th>\n",
       "      <td>0.21</td>\n",
       "      <td>Premium</td>\n",
       "      <td>E</td>\n",
       "      <td>SI1</td>\n",
       "      <td>59.8</td>\n",
       "      <td>61.0</td>\n",
       "      <td>326</td>\n",
       "      <td>3.89</td>\n",
       "      <td>3.84</td>\n",
       "      <td>2.31</td>\n",
       "    </tr>\n",
       "    <tr>\n",
       "      <th>2</th>\n",
       "      <td>0.23</td>\n",
       "      <td>Good</td>\n",
       "      <td>E</td>\n",
       "      <td>VS1</td>\n",
       "      <td>56.9</td>\n",
       "      <td>65.0</td>\n",
       "      <td>327</td>\n",
       "      <td>4.05</td>\n",
       "      <td>4.07</td>\n",
       "      <td>2.31</td>\n",
       "    </tr>\n",
       "    <tr>\n",
       "      <th>3</th>\n",
       "      <td>0.29</td>\n",
       "      <td>Premium</td>\n",
       "      <td>I</td>\n",
       "      <td>VS2</td>\n",
       "      <td>62.4</td>\n",
       "      <td>58.0</td>\n",
       "      <td>334</td>\n",
       "      <td>4.20</td>\n",
       "      <td>4.23</td>\n",
       "      <td>2.63</td>\n",
       "    </tr>\n",
       "    <tr>\n",
       "      <th>4</th>\n",
       "      <td>0.31</td>\n",
       "      <td>Good</td>\n",
       "      <td>J</td>\n",
       "      <td>SI2</td>\n",
       "      <td>63.3</td>\n",
       "      <td>58.0</td>\n",
       "      <td>335</td>\n",
       "      <td>4.34</td>\n",
       "      <td>4.35</td>\n",
       "      <td>2.75</td>\n",
       "    </tr>\n",
       "  </tbody>\n",
       "</table>\n",
       "</div>"
      ],
      "text/plain": [
       "   carat      cut color clarity  depth  table  price     x     y     z\n",
       "0   0.23    Ideal     E     SI2   61.5   55.0    326  3.95  3.98  2.43\n",
       "1   0.21  Premium     E     SI1   59.8   61.0    326  3.89  3.84  2.31\n",
       "2   0.23     Good     E     VS1   56.9   65.0    327  4.05  4.07  2.31\n",
       "3   0.29  Premium     I     VS2   62.4   58.0    334  4.20  4.23  2.63\n",
       "4   0.31     Good     J     SI2   63.3   58.0    335  4.34  4.35  2.75"
      ]
     },
     "execution_count": 4,
     "metadata": {},
     "output_type": "execute_result"
    }
   ],
   "source": [
    "import pandas as pd\n",
    "import seaborn as sns\n",
    "import matplotlib.pyplot as plt\n",
    "import numpy as np\n",
    "from sklearn.model_selection import train_test_split\n",
    "\n",
    "# load data\n",
    "diamonds = sns.load_dataset('diamonds')\n",
    "\n",
    "# head\n",
    "diamonds.head()"
   ]
  },
  {
   "cell_type": "markdown",
   "metadata": {},
   "source": [
    "## Learning about Gradient Descent\n",
    "\n",
    "Gradient Descent is an optimization algorithm used to minimize a function iteratively. In the case of linear regression on the Boston Housing dataset, the function we're trying to minimize is the Mean Squared Error (MSE), which measures the average squared difference between the actual and predicted values.\n",
    "\n",
    "### Key points: \n",
    "\n",
    "* Objective: The main goal of gradient descent in linear regression is to find the best parameters (coefficients and intercept) that provide the line of best fit for our data, thereby minimizing the MSE.\n",
    "\n",
    "1. Hypothesis Function: In linear regression, our prediction is made using a linear equation, which is often represented as:\n",
    "  $$\\hat{y} = \\beta_0 + \\beta_1 x$$\n",
    "  * Where:\n",
    "    * $\\hat{y}$ is the predicted value.\n",
    "    * $x$ represents the feature.\n",
    "    * $\\beta_0$ is the y-intercept.\n",
    "    * $\\beta_1$ is the slope or coefficient of the feature."
   ]
  },
  {
   "cell_type": "code",
   "execution_count": 5,
   "metadata": {},
   "outputs": [],
   "source": [
    "# Hypothesis function\n",
    "def hypothesis(X, beta0, beta1):\n",
    "    return beta0 + beta1 * X"
   ]
  },
  {
   "cell_type": "markdown",
   "metadata": {},
   "source": [
    "#### Cost Function (MSE):\n",
    "This function measures how far off our predictions are from the actual values. Mathematically, it's given by:\n",
    "  $$MSE = \\frac{1}{N} \\sum_{i=1}^{N} (y_i - \\hat{y}_i)^2$$\n",
    "  * Where:\n",
    "    * $N$ is the number of observations.\n",
    "    * $y_i$ is the actual value for the i-th observation.\n",
    "    * $\\hat{y}_i$ is the predicted value for the i-th observation.\n"
   ]
  },
  {
   "cell_type": "code",
   "execution_count": 6,
   "metadata": {},
   "outputs": [],
   "source": [
    "# Cost function\n",
    "def compute_cost(X, y, beta0, beta1):\n",
    "    m = len(y)\n",
    "    predictions = hypothesis(X, beta0, beta1)\n",
    "    return (1 / (2 * m)) * np.sum((predictions - y) ** 2)"
   ]
  },
  {
   "cell_type": "markdown",
   "metadata": {},
   "source": [
    "#### **Gradient Descent Iterations**: \n",
    "In each iteration of gradient descent:\n",
    "   - We compute the gradient of the cost function concerning each parameter. This gradient indicates the direction and rate of change of the cost function.\n",
    "   - We then adjust the parameters (in this case, $\\beta_0$ and $\\beta_1$ in the direction of the negative gradient by a step determined by the learning rate. This step helps reduce the cost function.\n",
    "   - This process is repeated for a specified number of iterations or until the cost function converges to a minimum value.\n"
   ]
  },
  {
   "cell_type": "code",
   "execution_count": 7,
   "metadata": {},
   "outputs": [],
   "source": [
    "# Gradient Descent function\n",
    "def gradient_descent(X, y, beta0, beta1, alpha, iterations):\n",
    "    m = len(y)\n",
    "    cost_history = [0] * iterations\n",
    "    \n",
    "    for iteration in range(iterations):\n",
    "        h = hypothesis(X, beta0, beta1)\n",
    "        \n",
    "        beta1_gradient = -(1/m) * np.sum(X * (y - h))\n",
    "        beta0_gradient = -(1/m) * np.sum(y - h)\n",
    "        \n",
    "        beta1 = beta1 - alpha * beta1_gradient\n",
    "        beta0 = beta0 - alpha * beta0_gradient\n",
    "        \n",
    "        cost_history[iteration] = compute_cost(X, y, beta0, beta1)\n",
    "    \n",
    "    return beta0, beta1, cost_history"
   ]
  },
  {
   "cell_type": "markdown",
   "metadata": {},
   "source": [
    "#### **Learning Rate**: \n",
    "It's a hyperparameter that determines the size of the steps we take in each iteration. A good learning rate will allow gradient descent to converge to the minimum of the cost function efficiently. If it's too high, we might overshoot the minimum, and if it's too low, the convergence might be very slow."
   ]
  },
  {
   "cell_type": "markdown",
   "metadata": {},
   "source": [
    "### **Outcome**: \n",
    "After several iterations of gradient descent, we obtain optimal values for $\\beta_0$ and $\\beta_1$ that minimize the MSE. These values can then be used to make predictions on new data.\n",
    "\n",
    "In summary, gradient descent is an iterative optimization process that adjusts the parameters of our linear regression model to minimize the mean squared error, thereby giving us the best line (or hyperplane in multiple dimensions) that fits our data."
   ]
  },
  {
   "cell_type": "code",
   "execution_count": 17,
   "metadata": {},
   "outputs": [],
   "source": [
    "# Extracting feature and target\n",
    "X = diamonds['carat'].values\n",
    "y = diamonds['price'].values.reshape(-1,1)\n",
    "\n",
    "# Splitting the data\n",
    "X_train, X_test, y_train, y_test = train_test_split(X, y, test_size=0.2, random_state=42)"
   ]
  },
  {
   "cell_type": "code",
   "execution_count": 20,
   "metadata": {},
   "outputs": [
    {
     "data": {
      "image/png": "[encoded data removed]",
      "text/plain": [
       "<Figure size 640x480 with 1 Axes>"
      ]
     },
     "metadata": {},
     "output_type": "display_data"
    }
   ],
   "source": [
    "# plot the relation between X and y\n",
    "plt.scatter(X_train, y_train, s=1)\n",
    "plt.xlabel('Carat')\n",
    "plt.ylabel('Price')\n",
    "plt.title('Relation between Price and Carat')\n",
    "plt.show()\n"
   ]
  },
  {
   "cell_type": "code",
   "execution_count": null,
   "metadata": {},
   "outputs": [],
   "source": [
    "# Hyperparameters for gradient descent\n",
    "alpha_diamonds = 0.001\n",
    "iterations_diamonds = 5000\n",
    "\n",
    "# Initial values for beta0 and beta1\n",
    "beta0_diamonds = 0\n",
    "beta1_diamonds = 0\n",
    "\n",
    "# Run gradient descent\n",
    "beta0_diamonds_final, beta1_diamonds_final, cost_history_diamonds = gradient_descent(X_train, y_train, beta0_diamonds, beta1_diamonds, alpha_diamonds, iterations_diamonds)\n",
    "\n",
    "# Predict function\n",
    "def predict(X, beta0, beta1):\n",
    "    return hypothesis(X, beta0, beta1)\n",
    "\n",
    "# Predicting and evaluating on the test set\n",
    "y_pred_diamonds = predict(X_test, beta0_diamonds_final, beta1_diamonds_final)\n",
    "mse_diamonds = np.mean((y_pred_diamonds - y_test) ** 2)"
   ]
  },
  {
   "cell_type": "code",
   "execution_count": null,
   "metadata": {},
   "outputs": [],
   "source": [
    "\n",
    "# Extracting feature and target\n",
    "X = boston_df[['RM']].values\n",
    "y = boston_df['MEDV'].values.reshape(-1, 1)\n",
    "\n",
    "# Splitting the data\n",
    "\n",
    "\n",
    "# Hyperparameters for gradient descent\n",
    "alpha_boston = 0.001\n",
    "iterations_boston = 5000\n",
    "\n",
    "# Initial values for beta0 and beta1\n",
    "beta0_boston = 0\n",
    "beta1_boston = 0\n",
    "\n",
    "# Run gradient descent\n",
    "beta0_boston_final, beta1_boston_final, cost_history_boston = gradient_descent(X_train, y_train, beta0_boston, beta1_boston, alpha_boston, iterations_boston)\n",
    "\n",
    "# Predict function\n",
    "def predict(X, beta0, beta1):\n",
    "    return hypothesis(X, beta0, beta1)\n",
    "\n",
    "# Predicting and evaluating on the test set\n",
    "y_pred_boston = predict(X_test, beta0_boston_final, beta1_boston_final)\n",
    "mse_boston = np.mean((y_pred_boston - y_test) ** 2)\n"
   ]
  },
  {
   "cell_type": "markdown",
   "metadata": {},
   "source": []
  },
  {
   "cell_type": "markdown",
   "metadata": {},
   "source": []
  }
 ],
 "metadata": {
  "kernelspec": {
   "display_name": "venv",
   "language": "python",
   "name": "python3"
  },
  "language_info": {
   "codemirror_mode": {
    "name": "ipython",
    "version": 3
   },
   "file_extension": ".py",
   "mimetype": "text/x-python",
   "name": "python",
   "nbconvert_exporter": "python",
   "pygments_lexer": "ipython3",
   "version": "3.9.18"
  }
 },
 "nbformat": 4,
 "nbformat_minor": 2
}
