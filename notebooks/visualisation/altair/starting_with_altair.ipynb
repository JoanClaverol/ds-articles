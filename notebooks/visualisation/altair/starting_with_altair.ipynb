{
 "cells": [
  {
   "cell_type": "markdown",
   "metadata": {},
   "source": [
    "# Exploring Data Visualization with Altair\n",
    "\n",
    "**Objective**: By the end of this workshop, you'll be able to create a variety of visualizations using Altair, understand the principles of Altair’s declarative syntax, and how to explore data interactively.\n",
    "\n",
    "**Duration**: Approx. 3 hours\n",
    "\n",
    "**Target Audience**: This workshop is designed for individuals who have a basic understanding of Python and are interested in exploring data visualization, and are already familiar with pandas.\n"
   ]
  },
  {
   "cell_type": "markdown",
   "metadata": {},
   "source": [
    "## What is Altair?\n",
    "\n",
    "## What is Altair?\n",
    "\n",
    "Altair adopts a declarative approach to data visualization. Instead of providing a series of procedural instructions to create a visualization, you describe the desired outcome in a declarative manner. This approach makes it easier to understand what the code is intended to do, and often results in more concise code\n",
    "\n",
    "**Importance**: Altair’s declarative nature makes it a powerful tool for rapidly exploring visualizations, making it an excellent choice for exploratory data analysis (EDA). It’s also built on a solid foundation of theorems about visualization, ensuring that the visualizations it creates are effective for communicating insights.\n",
    "\n",
    "**Use Cases**: Altair is widely used in the data science community for tasks such as EDA, creating interactive dashboards with tools like [**Streamlit**](https://streamlit.io/), and producing publication-quality visualizations.\n",
    "\n",
    "### Declarative vs. procedural\n",
    "\n",
    "In programming, there are two main approaches: procedural and declarative. The procedural approach is like being a chef who follows a recipe step by step, where you need to detail every action to get to the final dish. This method requires you to explicitly outline each step of the process, making it clear but often lengthy.\n",
    "\n",
    "On the flip side, the declarative approach, which Altair adopts, is like being a diner at a restaurant. You just state what dish you want, and the kitchen staff takes care of the rest. In Altair, you specify what you want the visualization to look like, and the library figures out how to create it. For example, you tell Altair you want a scatter plot of height against weight, and Altair does the rest.\n",
    "\n",
    "This declarative approach makes creating visualizations with Altair straightforward and predictable. You don't have to worry about the how, just the what. And this often results in less code, making your work more readable and easier to manage.\n",
    "\n",
    "So, with Altair, you get to be the diner who enjoys a gourmet meal without having to sweat it out in the kitchen!\n",
    "\n",
    "The declarative approach in Altair facilitates creating visualizations by specifying what you want to see, rather than detailing every step to achieve it. Let's use the Penguins dataset to illustrate this through code. In this example, we'll create a scatter plot to show the relationship between flipper length and body mass across different species of penguins.\n",
    "\n",
    "Firstly, ensure you have the necessary libraries installed by running:"
   ]
  },
  {
   "cell_type": "markdown",
   "metadata": {},
   "source": [
    "Let's install all the necessary libraries for this tutorial."
   ]
  },
  {
   "cell_type": "code",
   "execution_count": null,
   "metadata": {},
   "outputs": [],
   "source": [
    "# python -v 3.9.0\n",
    "# !pip install pandas altair seaborn"
   ]
  },
  {
   "cell_type": "code",
   "execution_count": 10,
   "metadata": {},
   "outputs": [],
   "source": [
    "\n",
    "import pandas as pd\n",
    "import altair as alt\n",
    "import seaborn as sns\n",
    "\n",
    "# Load the data\n",
    "penguins = sns.load_dataset(\"penguins\")"
   ]
  },
  {
   "cell_type": "code",
   "execution_count": 2,
   "metadata": {},
   "outputs": [
    {
     "data": {
      "text/html": [
       "<div>\n",
       "<style scoped>\n",
       "    .dataframe tbody tr th:only-of-type {\n",
       "        vertical-align: middle;\n",
       "    }\n",
       "\n",
       "    .dataframe tbody tr th {\n",
       "        vertical-align: top;\n",
       "    }\n",
       "\n",
       "    .dataframe thead th {\n",
       "        text-align: right;\n",
       "    }\n",
       "</style>\n",
       "<table border=\"1\" class=\"dataframe\">\n",
       "  <thead>\n",
       "    <tr style=\"text-align: right;\">\n",
       "      <th></th>\n",
       "      <th>species</th>\n",
       "      <th>island</th>\n",
       "      <th>bill_length_mm</th>\n",
       "      <th>bill_depth_mm</th>\n",
       "      <th>flipper_length_mm</th>\n",
       "      <th>body_mass_g</th>\n",
       "      <th>sex</th>\n",
       "    </tr>\n",
       "  </thead>\n",
       "  <tbody>\n",
       "    <tr>\n",
       "      <th>107</th>\n",
       "      <td>Adelie</td>\n",
       "      <td>Biscoe</td>\n",
       "      <td>38.2</td>\n",
       "      <td>20.0</td>\n",
       "      <td>190.0</td>\n",
       "      <td>3900.0</td>\n",
       "      <td>Male</td>\n",
       "    </tr>\n",
       "    <tr>\n",
       "      <th>150</th>\n",
       "      <td>Adelie</td>\n",
       "      <td>Dream</td>\n",
       "      <td>36.0</td>\n",
       "      <td>17.1</td>\n",
       "      <td>187.0</td>\n",
       "      <td>3700.0</td>\n",
       "      <td>Female</td>\n",
       "    </tr>\n",
       "    <tr>\n",
       "      <th>50</th>\n",
       "      <td>Adelie</td>\n",
       "      <td>Biscoe</td>\n",
       "      <td>39.6</td>\n",
       "      <td>17.7</td>\n",
       "      <td>186.0</td>\n",
       "      <td>3500.0</td>\n",
       "      <td>Female</td>\n",
       "    </tr>\n",
       "    <tr>\n",
       "      <th>68</th>\n",
       "      <td>Adelie</td>\n",
       "      <td>Torgersen</td>\n",
       "      <td>35.9</td>\n",
       "      <td>16.6</td>\n",
       "      <td>190.0</td>\n",
       "      <td>3050.0</td>\n",
       "      <td>Female</td>\n",
       "    </tr>\n",
       "    <tr>\n",
       "      <th>141</th>\n",
       "      <td>Adelie</td>\n",
       "      <td>Dream</td>\n",
       "      <td>40.6</td>\n",
       "      <td>17.2</td>\n",
       "      <td>187.0</td>\n",
       "      <td>3475.0</td>\n",
       "      <td>Male</td>\n",
       "    </tr>\n",
       "  </tbody>\n",
       "</table>\n",
       "</div>"
      ],
      "text/plain": [
       "    species     island  bill_length_mm  bill_depth_mm  flipper_length_mm  \\\n",
       "107  Adelie     Biscoe            38.2           20.0              190.0   \n",
       "150  Adelie      Dream            36.0           17.1              187.0   \n",
       "50   Adelie     Biscoe            39.6           17.7              186.0   \n",
       "68   Adelie  Torgersen            35.9           16.6              190.0   \n",
       "141  Adelie      Dream            40.6           17.2              187.0   \n",
       "\n",
       "     body_mass_g     sex  \n",
       "107       3900.0    Male  \n",
       "150       3700.0  Female  \n",
       "50        3500.0  Female  \n",
       "68        3050.0  Female  \n",
       "141       3475.0    Male  "
      ]
     },
     "execution_count": 2,
     "metadata": {},
     "output_type": "execute_result"
    }
   ],
   "source": [
    "penguins.sample(5)"
   ]
  },
  {
   "cell_type": "code",
   "execution_count": 8,
   "metadata": {},
   "outputs": [
    {
     "data": {
      "text/html": [
       "\n",
       "<style>\n",
       "  #altair-viz-9c41aad561ee416388d41f520cdde9da.vega-embed {\n",
       "    width: 100%;\n",
       "    display: flex;\n",
       "  }\n",
       "\n",
       "  #altair-viz-9c41aad561ee416388d41f520cdde9da.vega-embed details,\n",
       "  #altair-viz-9c41aad561ee416388d41f520cdde9da.vega-embed details summary {\n",
       "    position: relative;\n",
       "  }\n",
       "</style>\n",
       "<div id=\"altair-viz-9c41aad561ee416388d41f520cdde9da\"></div>\n",
       "<script type=\"text/javascript\">\n",
       "  var VEGA_DEBUG = (typeof VEGA_DEBUG == \"undefined\") ? {} : VEGA_DEBUG;\n",
       "  (function(spec, embedOpt){\n",
       "    let outputDiv = document.currentScript.previousElementSibling;\n",
       "    if (outputDiv.id !== \"altair-viz-9c41aad561ee416388d41f520cdde9da\") {\n",
       "      outputDiv = document.getElementById(\"altair-viz-9c41aad561ee416388d41f520cdde9da\");\n",
       "    }\n",
       "    const paths = {\n",
       "      \"vega\": \"https://cdn.jsdelivr.net/npm/vega@5?noext\",\n",
       "      \"vega-lib\": \"https://cdn.jsdelivr.net/npm/vega-lib?noext\",\n",
       "      \"vega-lite\": \"https://cdn.jsdelivr.net/npm/vega-lite@5.15.1?noext\",\n",
       "      \"vega-embed\": \"https://cdn.jsdelivr.net/npm/vega-embed@6?noext\",\n",
       "    };\n",
       "\n",
       "    function maybeLoadScript(lib, version) {\n",
       "      var key = `${lib.replace(\"-\", \"\")}_version`;\n",
       "      return (VEGA_DEBUG[key] == version) ?\n",
       "        Promise.resolve(paths[lib]) :\n",
       "        new Promise(function(resolve, reject) {\n",
       "          var s = document.createElement('script');\n",
       "          document.getElementsByTagName(\"head\")[0].appendChild(s);\n",
       "          s.async = true;\n",
       "          s.onload = () => {\n",
       "            VEGA_DEBUG[key] = version;\n",
       "            return resolve(paths[lib]);\n",
       "          };\n",
       "          s.onerror = () => reject(`Error loading script: ${paths[lib]}`);\n",
       "          s.src = paths[lib];\n",
       "        });\n",
       "    }\n",
       "\n",
       "    function showError(err) {\n",
       "      outputDiv.innerHTML = `<div class=\"error\" style=\"color:red;\">${err}</div>`;\n",
       "      throw err;\n",
       "    }\n",
       "\n",
       "    function displayChart(vegaEmbed) {\n",
       "      vegaEmbed(outputDiv, spec, embedOpt)\n",
       "        .catch(err => showError(`Javascript Error: ${err.message}<br>This usually means there's a typo in your chart specification. See the javascript console for the full traceback.`));\n",
       "    }\n",
       "\n",
       "    if(typeof define === \"function\" && define.amd) {\n",
       "      requirejs.config({paths});\n",
       "      require([\"vega-embed\"], displayChart, err => showError(`Error loading script: ${err.message}`));\n",
       "    } else {\n",
       "      maybeLoadScript(\"vega\", \"5\")\n",
       "        .then(() => maybeLoadScript(\"vega-lite\", \"5.15.1\"))\n",
       "        .then(() => maybeLoadScript(\"vega-embed\", \"6\"))\n",
       "        .catch(showError)\n",
       "        .then(() => displayChart(vegaEmbed));\n",
       "    }\n",
       "  })({\"config\": {\"view\": {\"continuousWidth\": 300, \"continuousHeight\": 300, \"strokeWidth\": 0}, \"axis\": {\"grid\": false, \"labelFontSize\": 12, \"titleFontSize\": 14}, \"legend\": {\"orient\": \"right\", \"title\": null}}, \"data\": {\"name\": \"data-6503fb4fbd21ca2400956d2086879525\"}, \"mark\": {\"type\": \"circle\"}, \"encoding\": {\"color\": {\"field\": \"species\", \"type\": \"nominal\"}, \"x\": {\"axis\": {\"labelFontSize\": 12, \"labels\": true, \"ticks\": true, \"titleFontSize\": 14}, \"field\": \"flipper_length_mm\", \"title\": \"Flipper Length (mm)\", \"type\": \"quantitative\"}, \"y\": {\"axis\": {\"labelFontSize\": 12, \"labels\": true, \"ticks\": true, \"titleFontSize\": 14}, \"field\": \"bill_length_mm\", \"title\": \"Bill Length (mm)\", \"type\": \"quantitative\"}}, \"height\": 300, \"title\": {\"text\": \"Relationship between Flipper Length and Bill Length in Penguins\", \"fontSize\": 18}, \"width\": 500, \"$schema\": \"https://vega.github.io/schema/vega-lite/v5.15.1.json\", \"datasets\": {\"data-6503fb4fbd21ca2400956d2086879525\": [{\"species\": \"Adelie\", \"island\": \"Torgersen\", \"bill_length_mm\": 39.1, \"bill_depth_mm\": 18.7, \"flipper_length_mm\": 181.0, \"body_mass_g\": 3750.0, \"sex\": \"Male\"}, {\"species\": \"Adelie\", \"island\": \"Torgersen\", \"bill_length_mm\": 39.5, \"bill_depth_mm\": 17.4, \"flipper_length_mm\": 186.0, \"body_mass_g\": 3800.0, \"sex\": \"Female\"}, {\"species\": \"Adelie\", \"island\": \"Torgersen\", \"bill_length_mm\": 40.3, \"bill_depth_mm\": 18.0, \"flipper_length_mm\": 195.0, \"body_mass_g\": 3250.0, \"sex\": \"Female\"}, {\"species\": \"Adelie\", \"island\": \"Torgersen\", \"bill_length_mm\": null, \"bill_depth_mm\": null, \"flipper_length_mm\": null, \"body_mass_g\": null, \"sex\": null}, {\"species\": \"Adelie\", \"island\": \"Torgersen\", \"bill_length_mm\": 36.7, \"bill_depth_mm\": 19.3, \"flipper_length_mm\": 193.0, \"body_mass_g\": 3450.0, \"sex\": \"Female\"}, {\"species\": \"Adelie\", \"island\": \"Torgersen\", \"bill_length_mm\": 39.3, \"bill_depth_mm\": 20.6, \"flipper_length_mm\": 190.0, \"body_mass_g\": 3650.0, \"sex\": \"Male\"}, {\"species\": \"Adelie\", \"island\": \"Torgersen\", \"bill_length_mm\": 38.9, \"bill_depth_mm\": 17.8, \"flipper_length_mm\": 181.0, \"body_mass_g\": 3625.0, \"sex\": \"Female\"}, {\"species\": \"Adelie\", \"island\": \"Torgersen\", \"bill_length_mm\": 39.2, \"bill_depth_mm\": 19.6, \"flipper_length_mm\": 195.0, \"body_mass_g\": 4675.0, \"sex\": \"Male\"}, {\"species\": \"Adelie\", \"island\": \"Torgersen\", \"bill_length_mm\": 34.1, \"bill_depth_mm\": 18.1, \"flipper_length_mm\": 193.0, \"body_mass_g\": 3475.0, \"sex\": null}, {\"species\": \"Adelie\", \"island\": \"Torgersen\", \"bill_length_mm\": 42.0, \"bill_depth_mm\": 20.2, \"flipper_length_mm\": 190.0, \"body_mass_g\": 4250.0, \"sex\": null}, {\"species\": \"Adelie\", \"island\": \"Torgersen\", \"bill_length_mm\": 37.8, \"bill_depth_mm\": 17.1, \"flipper_length_mm\": 186.0, \"body_mass_g\": 3300.0, \"sex\": null}, {\"species\": \"Adelie\", \"island\": \"Torgersen\", \"bill_length_mm\": 37.8, \"bill_depth_mm\": 17.3, \"flipper_length_mm\": 180.0, \"body_mass_g\": 3700.0, \"sex\": null}, {\"species\": \"Adelie\", \"island\": \"Torgersen\", \"bill_length_mm\": 41.1, \"bill_depth_mm\": 17.6, \"flipper_length_mm\": 182.0, \"body_mass_g\": 3200.0, \"sex\": \"Female\"}, {\"species\": \"Adelie\", \"island\": \"Torgersen\", \"bill_length_mm\": 38.6, \"bill_depth_mm\": 21.2, \"flipper_length_mm\": 191.0, \"body_mass_g\": 3800.0, \"sex\": \"Male\"}, {\"species\": \"Adelie\", \"island\": \"Torgersen\", \"bill_length_mm\": 34.6, \"bill_depth_mm\": 21.1, \"flipper_length_mm\": 198.0, \"body_mass_g\": 4400.0, \"sex\": \"Male\"}, {\"species\": \"Adelie\", \"island\": \"Torgersen\", \"bill_length_mm\": 36.6, \"bill_depth_mm\": 17.8, \"flipper_length_mm\": 185.0, \"body_mass_g\": 3700.0, \"sex\": \"Female\"}, {\"species\": \"Adelie\", \"island\": \"Torgersen\", \"bill_length_mm\": 38.7, \"bill_depth_mm\": 19.0, \"flipper_length_mm\": 195.0, \"body_mass_g\": 3450.0, \"sex\": \"Female\"}, {\"species\": \"Adelie\", \"island\": \"Torgersen\", \"bill_length_mm\": 42.5, \"bill_depth_mm\": 20.7, \"flipper_length_mm\": 197.0, \"body_mass_g\": 4500.0, \"sex\": \"Male\"}, {\"species\": \"Adelie\", \"island\": \"Torgersen\", \"bill_length_mm\": 34.4, \"bill_depth_mm\": 18.4, \"flipper_length_mm\": 184.0, \"body_mass_g\": 3325.0, \"sex\": \"Female\"}, {\"species\": \"Adelie\", \"island\": \"Torgersen\", \"bill_length_mm\": 46.0, \"bill_depth_mm\": 21.5, \"flipper_length_mm\": 194.0, \"body_mass_g\": 4200.0, \"sex\": \"Male\"}, {\"species\": \"Adelie\", \"island\": \"Biscoe\", \"bill_length_mm\": 37.8, \"bill_depth_mm\": 18.3, \"flipper_length_mm\": 174.0, \"body_mass_g\": 3400.0, \"sex\": \"Female\"}, {\"species\": \"Adelie\", \"island\": \"Biscoe\", \"bill_length_mm\": 37.7, \"bill_depth_mm\": 18.7, \"flipper_length_mm\": 180.0, \"body_mass_g\": 3600.0, \"sex\": \"Male\"}, {\"species\": \"Adelie\", \"island\": \"Biscoe\", \"bill_length_mm\": 35.9, \"bill_depth_mm\": 19.2, \"flipper_length_mm\": 189.0, \"body_mass_g\": 3800.0, \"sex\": \"Female\"}, {\"species\": \"Adelie\", \"island\": \"Biscoe\", \"bill_length_mm\": 38.2, \"bill_depth_mm\": 18.1, \"flipper_length_mm\": 185.0, \"body_mass_g\": 3950.0, \"sex\": \"Male\"}, {\"species\": \"Adelie\", \"island\": \"Biscoe\", \"bill_length_mm\": 38.8, \"bill_depth_mm\": 17.2, \"flipper_length_mm\": 180.0, \"body_mass_g\": 3800.0, \"sex\": \"Male\"}, {\"species\": \"Adelie\", \"island\": \"Biscoe\", \"bill_length_mm\": 35.3, \"bill_depth_mm\": 18.9, \"flipper_length_mm\": 187.0, \"body_mass_g\": 3800.0, \"sex\": \"Female\"}, {\"species\": \"Adelie\", \"island\": \"Biscoe\", \"bill_length_mm\": 40.6, \"bill_depth_mm\": 18.6, \"flipper_length_mm\": 183.0, \"body_mass_g\": 3550.0, \"sex\": \"Male\"}, {\"species\": \"Adelie\", \"island\": \"Biscoe\", \"bill_length_mm\": 40.5, \"bill_depth_mm\": 17.9, \"flipper_length_mm\": 187.0, \"body_mass_g\": 3200.0, \"sex\": \"Female\"}, {\"species\": \"Adelie\", \"island\": \"Biscoe\", \"bill_length_mm\": 37.9, \"bill_depth_mm\": 18.6, \"flipper_length_mm\": 172.0, \"body_mass_g\": 3150.0, \"sex\": \"Female\"}, {\"species\": \"Adelie\", \"island\": \"Biscoe\", \"bill_length_mm\": 40.5, \"bill_depth_mm\": 18.9, \"flipper_length_mm\": 180.0, \"body_mass_g\": 3950.0, \"sex\": \"Male\"}, {\"species\": \"Adelie\", \"island\": \"Dream\", \"bill_length_mm\": 39.5, \"bill_depth_mm\": 16.7, \"flipper_length_mm\": 178.0, \"body_mass_g\": 3250.0, \"sex\": \"Female\"}, {\"species\": \"Adelie\", \"island\": \"Dream\", \"bill_length_mm\": 37.2, \"bill_depth_mm\": 18.1, \"flipper_length_mm\": 178.0, \"body_mass_g\": 3900.0, \"sex\": \"Male\"}, {\"species\": \"Adelie\", \"island\": \"Dream\", \"bill_length_mm\": 39.5, \"bill_depth_mm\": 17.8, \"flipper_length_mm\": 188.0, \"body_mass_g\": 3300.0, \"sex\": \"Female\"}, {\"species\": \"Adelie\", \"island\": \"Dream\", \"bill_length_mm\": 40.9, \"bill_depth_mm\": 18.9, \"flipper_length_mm\": 184.0, \"body_mass_g\": 3900.0, \"sex\": \"Male\"}, {\"species\": \"Adelie\", \"island\": \"Dream\", \"bill_length_mm\": 36.4, \"bill_depth_mm\": 17.0, \"flipper_length_mm\": 195.0, \"body_mass_g\": 3325.0, \"sex\": \"Female\"}, {\"species\": \"Adelie\", \"island\": \"Dream\", \"bill_length_mm\": 39.2, \"bill_depth_mm\": 21.1, \"flipper_length_mm\": 196.0, \"body_mass_g\": 4150.0, \"sex\": \"Male\"}, {\"species\": \"Adelie\", \"island\": \"Dream\", \"bill_length_mm\": 38.8, \"bill_depth_mm\": 20.0, \"flipper_length_mm\": 190.0, \"body_mass_g\": 3950.0, \"sex\": \"Male\"}, {\"species\": \"Adelie\", \"island\": \"Dream\", \"bill_length_mm\": 42.2, \"bill_depth_mm\": 18.5, \"flipper_length_mm\": 180.0, \"body_mass_g\": 3550.0, \"sex\": \"Female\"}, {\"species\": \"Adelie\", \"island\": \"Dream\", \"bill_length_mm\": 37.6, \"bill_depth_mm\": 19.3, \"flipper_length_mm\": 181.0, \"body_mass_g\": 3300.0, \"sex\": \"Female\"}, {\"species\": \"Adelie\", \"island\": \"Dream\", \"bill_length_mm\": 39.8, \"bill_depth_mm\": 19.1, \"flipper_length_mm\": 184.0, \"body_mass_g\": 4650.0, \"sex\": \"Male\"}, {\"species\": \"Adelie\", \"island\": \"Dream\", \"bill_length_mm\": 36.5, \"bill_depth_mm\": 18.0, \"flipper_length_mm\": 182.0, \"body_mass_g\": 3150.0, \"sex\": \"Female\"}, {\"species\": \"Adelie\", \"island\": \"Dream\", \"bill_length_mm\": 40.8, \"bill_depth_mm\": 18.4, \"flipper_length_mm\": 195.0, \"body_mass_g\": 3900.0, \"sex\": \"Male\"}, {\"species\": \"Adelie\", \"island\": \"Dream\", \"bill_length_mm\": 36.0, \"bill_depth_mm\": 18.5, \"flipper_length_mm\": 186.0, \"body_mass_g\": 3100.0, \"sex\": \"Female\"}, {\"species\": \"Adelie\", \"island\": \"Dream\", \"bill_length_mm\": 44.1, \"bill_depth_mm\": 19.7, \"flipper_length_mm\": 196.0, \"body_mass_g\": 4400.0, \"sex\": \"Male\"}, {\"species\": \"Adelie\", \"island\": \"Dream\", \"bill_length_mm\": 37.0, \"bill_depth_mm\": 16.9, \"flipper_length_mm\": 185.0, \"body_mass_g\": 3000.0, \"sex\": \"Female\"}, {\"species\": \"Adelie\", \"island\": \"Dream\", \"bill_length_mm\": 39.6, \"bill_depth_mm\": 18.8, \"flipper_length_mm\": 190.0, \"body_mass_g\": 4600.0, \"sex\": \"Male\"}, {\"species\": \"Adelie\", \"island\": \"Dream\", \"bill_length_mm\": 41.1, \"bill_depth_mm\": 19.0, \"flipper_length_mm\": 182.0, \"body_mass_g\": 3425.0, \"sex\": \"Male\"}, {\"species\": \"Adelie\", \"island\": \"Dream\", \"bill_length_mm\": 37.5, \"bill_depth_mm\": 18.9, \"flipper_length_mm\": 179.0, \"body_mass_g\": 2975.0, \"sex\": null}, {\"species\": \"Adelie\", \"island\": \"Dream\", \"bill_length_mm\": 36.0, \"bill_depth_mm\": 17.9, \"flipper_length_mm\": 190.0, \"body_mass_g\": 3450.0, \"sex\": \"Female\"}, {\"species\": \"Adelie\", \"island\": \"Dream\", \"bill_length_mm\": 42.3, \"bill_depth_mm\": 21.2, \"flipper_length_mm\": 191.0, \"body_mass_g\": 4150.0, \"sex\": \"Male\"}, {\"species\": \"Adelie\", \"island\": \"Biscoe\", \"bill_length_mm\": 39.6, \"bill_depth_mm\": 17.7, \"flipper_length_mm\": 186.0, \"body_mass_g\": 3500.0, \"sex\": \"Female\"}, {\"species\": \"Adelie\", \"island\": \"Biscoe\", \"bill_length_mm\": 40.1, \"bill_depth_mm\": 18.9, \"flipper_length_mm\": 188.0, \"body_mass_g\": 4300.0, \"sex\": \"Male\"}, {\"species\": \"Adelie\", \"island\": \"Biscoe\", \"bill_length_mm\": 35.0, \"bill_depth_mm\": 17.9, \"flipper_length_mm\": 190.0, \"body_mass_g\": 3450.0, \"sex\": \"Female\"}, {\"species\": \"Adelie\", \"island\": \"Biscoe\", \"bill_length_mm\": 42.0, \"bill_depth_mm\": 19.5, \"flipper_length_mm\": 200.0, \"body_mass_g\": 4050.0, \"sex\": \"Male\"}, {\"species\": \"Adelie\", \"island\": \"Biscoe\", \"bill_length_mm\": 34.5, \"bill_depth_mm\": 18.1, \"flipper_length_mm\": 187.0, \"body_mass_g\": 2900.0, \"sex\": \"Female\"}, {\"species\": \"Adelie\", \"island\": \"Biscoe\", \"bill_length_mm\": 41.4, \"bill_depth_mm\": 18.6, \"flipper_length_mm\": 191.0, \"body_mass_g\": 3700.0, \"sex\": \"Male\"}, {\"species\": \"Adelie\", \"island\": \"Biscoe\", \"bill_length_mm\": 39.0, \"bill_depth_mm\": 17.5, \"flipper_length_mm\": 186.0, \"body_mass_g\": 3550.0, \"sex\": \"Female\"}, {\"species\": \"Adelie\", \"island\": \"Biscoe\", \"bill_length_mm\": 40.6, \"bill_depth_mm\": 18.8, \"flipper_length_mm\": 193.0, \"body_mass_g\": 3800.0, \"sex\": \"Male\"}, {\"species\": \"Adelie\", \"island\": \"Biscoe\", \"bill_length_mm\": 36.5, \"bill_depth_mm\": 16.6, \"flipper_length_mm\": 181.0, \"body_mass_g\": 2850.0, \"sex\": \"Female\"}, {\"species\": \"Adelie\", \"island\": \"Biscoe\", \"bill_length_mm\": 37.6, \"bill_depth_mm\": 19.1, \"flipper_length_mm\": 194.0, \"body_mass_g\": 3750.0, \"sex\": \"Male\"}, {\"species\": \"Adelie\", \"island\": \"Biscoe\", \"bill_length_mm\": 35.7, \"bill_depth_mm\": 16.9, \"flipper_length_mm\": 185.0, \"body_mass_g\": 3150.0, \"sex\": \"Female\"}, {\"species\": \"Adelie\", \"island\": \"Biscoe\", \"bill_length_mm\": 41.3, \"bill_depth_mm\": 21.1, \"flipper_length_mm\": 195.0, \"body_mass_g\": 4400.0, \"sex\": \"Male\"}, {\"species\": \"Adelie\", \"island\": \"Biscoe\", \"bill_length_mm\": 37.6, \"bill_depth_mm\": 17.0, \"flipper_length_mm\": 185.0, \"body_mass_g\": 3600.0, \"sex\": \"Female\"}, {\"species\": \"Adelie\", \"island\": \"Biscoe\", \"bill_length_mm\": 41.1, \"bill_depth_mm\": 18.2, \"flipper_length_mm\": 192.0, \"body_mass_g\": 4050.0, \"sex\": \"Male\"}, {\"species\": \"Adelie\", \"island\": \"Biscoe\", \"bill_length_mm\": 36.4, \"bill_depth_mm\": 17.1, \"flipper_length_mm\": 184.0, \"body_mass_g\": 2850.0, \"sex\": \"Female\"}, {\"species\": \"Adelie\", \"island\": \"Biscoe\", \"bill_length_mm\": 41.6, \"bill_depth_mm\": 18.0, \"flipper_length_mm\": 192.0, \"body_mass_g\": 3950.0, \"sex\": \"Male\"}, {\"species\": \"Adelie\", \"island\": \"Biscoe\", \"bill_length_mm\": 35.5, \"bill_depth_mm\": 16.2, \"flipper_length_mm\": 195.0, \"body_mass_g\": 3350.0, \"sex\": \"Female\"}, {\"species\": \"Adelie\", \"island\": \"Biscoe\", \"bill_length_mm\": 41.1, \"bill_depth_mm\": 19.1, \"flipper_length_mm\": 188.0, \"body_mass_g\": 4100.0, \"sex\": \"Male\"}, {\"species\": \"Adelie\", \"island\": \"Torgersen\", \"bill_length_mm\": 35.9, \"bill_depth_mm\": 16.6, \"flipper_length_mm\": 190.0, \"body_mass_g\": 3050.0, \"sex\": \"Female\"}, {\"species\": \"Adelie\", \"island\": \"Torgersen\", \"bill_length_mm\": 41.8, \"bill_depth_mm\": 19.4, \"flipper_length_mm\": 198.0, \"body_mass_g\": 4450.0, \"sex\": \"Male\"}, {\"species\": \"Adelie\", \"island\": \"Torgersen\", \"bill_length_mm\": 33.5, \"bill_depth_mm\": 19.0, \"flipper_length_mm\": 190.0, \"body_mass_g\": 3600.0, \"sex\": \"Female\"}, {\"species\": \"Adelie\", \"island\": \"Torgersen\", \"bill_length_mm\": 39.7, \"bill_depth_mm\": 18.4, \"flipper_length_mm\": 190.0, \"body_mass_g\": 3900.0, \"sex\": \"Male\"}, {\"species\": \"Adelie\", \"island\": \"Torgersen\", \"bill_length_mm\": 39.6, \"bill_depth_mm\": 17.2, \"flipper_length_mm\": 196.0, \"body_mass_g\": 3550.0, \"sex\": \"Female\"}, {\"species\": \"Adelie\", \"island\": \"Torgersen\", \"bill_length_mm\": 45.8, \"bill_depth_mm\": 18.9, \"flipper_length_mm\": 197.0, \"body_mass_g\": 4150.0, \"sex\": \"Male\"}, {\"species\": \"Adelie\", \"island\": \"Torgersen\", \"bill_length_mm\": 35.5, \"bill_depth_mm\": 17.5, \"flipper_length_mm\": 190.0, \"body_mass_g\": 3700.0, \"sex\": \"Female\"}, {\"species\": \"Adelie\", \"island\": \"Torgersen\", \"bill_length_mm\": 42.8, \"bill_depth_mm\": 18.5, \"flipper_length_mm\": 195.0, \"body_mass_g\": 4250.0, \"sex\": \"Male\"}, {\"species\": \"Adelie\", \"island\": \"Torgersen\", \"bill_length_mm\": 40.9, \"bill_depth_mm\": 16.8, \"flipper_length_mm\": 191.0, \"body_mass_g\": 3700.0, \"sex\": \"Female\"}, {\"species\": \"Adelie\", \"island\": \"Torgersen\", \"bill_length_mm\": 37.2, \"bill_depth_mm\": 19.4, \"flipper_length_mm\": 184.0, \"body_mass_g\": 3900.0, \"sex\": \"Male\"}, {\"species\": \"Adelie\", \"island\": \"Torgersen\", \"bill_length_mm\": 36.2, \"bill_depth_mm\": 16.1, \"flipper_length_mm\": 187.0, \"body_mass_g\": 3550.0, \"sex\": \"Female\"}, {\"species\": \"Adelie\", \"island\": \"Torgersen\", \"bill_length_mm\": 42.1, \"bill_depth_mm\": 19.1, \"flipper_length_mm\": 195.0, \"body_mass_g\": 4000.0, \"sex\": \"Male\"}, {\"species\": \"Adelie\", \"island\": \"Torgersen\", \"bill_length_mm\": 34.6, \"bill_depth_mm\": 17.2, \"flipper_length_mm\": 189.0, \"body_mass_g\": 3200.0, \"sex\": \"Female\"}, {\"species\": \"Adelie\", \"island\": \"Torgersen\", \"bill_length_mm\": 42.9, \"bill_depth_mm\": 17.6, \"flipper_length_mm\": 196.0, \"body_mass_g\": 4700.0, \"sex\": \"Male\"}, {\"species\": \"Adelie\", \"island\": \"Torgersen\", \"bill_length_mm\": 36.7, \"bill_depth_mm\": 18.8, \"flipper_length_mm\": 187.0, \"body_mass_g\": 3800.0, \"sex\": \"Female\"}, {\"species\": \"Adelie\", \"island\": \"Torgersen\", \"bill_length_mm\": 35.1, \"bill_depth_mm\": 19.4, \"flipper_length_mm\": 193.0, \"body_mass_g\": 4200.0, \"sex\": \"Male\"}, {\"species\": \"Adelie\", \"island\": \"Dream\", \"bill_length_mm\": 37.3, \"bill_depth_mm\": 17.8, \"flipper_length_mm\": 191.0, \"body_mass_g\": 3350.0, \"sex\": \"Female\"}, {\"species\": \"Adelie\", \"island\": \"Dream\", \"bill_length_mm\": 41.3, \"bill_depth_mm\": 20.3, \"flipper_length_mm\": 194.0, \"body_mass_g\": 3550.0, \"sex\": \"Male\"}, {\"species\": \"Adelie\", \"island\": \"Dream\", \"bill_length_mm\": 36.3, \"bill_depth_mm\": 19.5, \"flipper_length_mm\": 190.0, \"body_mass_g\": 3800.0, \"sex\": \"Male\"}, {\"species\": \"Adelie\", \"island\": \"Dream\", \"bill_length_mm\": 36.9, \"bill_depth_mm\": 18.6, \"flipper_length_mm\": 189.0, \"body_mass_g\": 3500.0, \"sex\": \"Female\"}, {\"species\": \"Adelie\", \"island\": \"Dream\", \"bill_length_mm\": 38.3, \"bill_depth_mm\": 19.2, \"flipper_length_mm\": 189.0, \"body_mass_g\": 3950.0, \"sex\": \"Male\"}, {\"species\": \"Adelie\", \"island\": \"Dream\", \"bill_length_mm\": 38.9, \"bill_depth_mm\": 18.8, \"flipper_length_mm\": 190.0, \"body_mass_g\": 3600.0, \"sex\": \"Female\"}, {\"species\": \"Adelie\", \"island\": \"Dream\", \"bill_length_mm\": 35.7, \"bill_depth_mm\": 18.0, \"flipper_length_mm\": 202.0, \"body_mass_g\": 3550.0, \"sex\": \"Female\"}, {\"species\": \"Adelie\", \"island\": \"Dream\", \"bill_length_mm\": 41.1, \"bill_depth_mm\": 18.1, \"flipper_length_mm\": 205.0, \"body_mass_g\": 4300.0, \"sex\": \"Male\"}, {\"species\": \"Adelie\", \"island\": \"Dream\", \"bill_length_mm\": 34.0, \"bill_depth_mm\": 17.1, \"flipper_length_mm\": 185.0, \"body_mass_g\": 3400.0, \"sex\": \"Female\"}, {\"species\": \"Adelie\", \"island\": \"Dream\", \"bill_length_mm\": 39.6, \"bill_depth_mm\": 18.1, \"flipper_length_mm\": 186.0, \"body_mass_g\": 4450.0, \"sex\": \"Male\"}, {\"species\": \"Adelie\", \"island\": \"Dream\", \"bill_length_mm\": 36.2, \"bill_depth_mm\": 17.3, \"flipper_length_mm\": 187.0, \"body_mass_g\": 3300.0, \"sex\": \"Female\"}, {\"species\": \"Adelie\", \"island\": \"Dream\", \"bill_length_mm\": 40.8, \"bill_depth_mm\": 18.9, \"flipper_length_mm\": 208.0, \"body_mass_g\": 4300.0, \"sex\": \"Male\"}, {\"species\": \"Adelie\", \"island\": \"Dream\", \"bill_length_mm\": 38.1, \"bill_depth_mm\": 18.6, \"flipper_length_mm\": 190.0, \"body_mass_g\": 3700.0, \"sex\": \"Female\"}, {\"species\": \"Adelie\", \"island\": \"Dream\", \"bill_length_mm\": 40.3, \"bill_depth_mm\": 18.5, \"flipper_length_mm\": 196.0, \"body_mass_g\": 4350.0, \"sex\": \"Male\"}, {\"species\": \"Adelie\", \"island\": \"Dream\", \"bill_length_mm\": 33.1, \"bill_depth_mm\": 16.1, \"flipper_length_mm\": 178.0, \"body_mass_g\": 2900.0, \"sex\": \"Female\"}, {\"species\": \"Adelie\", \"island\": \"Dream\", \"bill_length_mm\": 43.2, \"bill_depth_mm\": 18.5, \"flipper_length_mm\": 192.0, \"body_mass_g\": 4100.0, \"sex\": \"Male\"}, {\"species\": \"Adelie\", \"island\": \"Biscoe\", \"bill_length_mm\": 35.0, \"bill_depth_mm\": 17.9, \"flipper_length_mm\": 192.0, \"body_mass_g\": 3725.0, \"sex\": \"Female\"}, {\"species\": \"Adelie\", \"island\": \"Biscoe\", \"bill_length_mm\": 41.0, \"bill_depth_mm\": 20.0, \"flipper_length_mm\": 203.0, \"body_mass_g\": 4725.0, \"sex\": \"Male\"}, {\"species\": \"Adelie\", \"island\": \"Biscoe\", \"bill_length_mm\": 37.7, \"bill_depth_mm\": 16.0, \"flipper_length_mm\": 183.0, \"body_mass_g\": 3075.0, \"sex\": \"Female\"}, {\"species\": \"Adelie\", \"island\": \"Biscoe\", \"bill_length_mm\": 37.8, \"bill_depth_mm\": 20.0, \"flipper_length_mm\": 190.0, \"body_mass_g\": 4250.0, \"sex\": \"Male\"}, {\"species\": \"Adelie\", \"island\": \"Biscoe\", \"bill_length_mm\": 37.9, \"bill_depth_mm\": 18.6, \"flipper_length_mm\": 193.0, \"body_mass_g\": 2925.0, \"sex\": \"Female\"}, {\"species\": \"Adelie\", \"island\": \"Biscoe\", \"bill_length_mm\": 39.7, \"bill_depth_mm\": 18.9, \"flipper_length_mm\": 184.0, \"body_mass_g\": 3550.0, \"sex\": \"Male\"}, {\"species\": \"Adelie\", \"island\": \"Biscoe\", \"bill_length_mm\": 38.6, \"bill_depth_mm\": 17.2, \"flipper_length_mm\": 199.0, \"body_mass_g\": 3750.0, \"sex\": \"Female\"}, {\"species\": \"Adelie\", \"island\": \"Biscoe\", \"bill_length_mm\": 38.2, \"bill_depth_mm\": 20.0, \"flipper_length_mm\": 190.0, \"body_mass_g\": 3900.0, \"sex\": \"Male\"}, {\"species\": \"Adelie\", \"island\": \"Biscoe\", \"bill_length_mm\": 38.1, \"bill_depth_mm\": 17.0, \"flipper_length_mm\": 181.0, \"body_mass_g\": 3175.0, \"sex\": \"Female\"}, {\"species\": \"Adelie\", \"island\": \"Biscoe\", \"bill_length_mm\": 43.2, \"bill_depth_mm\": 19.0, \"flipper_length_mm\": 197.0, \"body_mass_g\": 4775.0, \"sex\": \"Male\"}, {\"species\": \"Adelie\", \"island\": \"Biscoe\", \"bill_length_mm\": 38.1, \"bill_depth_mm\": 16.5, \"flipper_length_mm\": 198.0, \"body_mass_g\": 3825.0, \"sex\": \"Female\"}, {\"species\": \"Adelie\", \"island\": \"Biscoe\", \"bill_length_mm\": 45.6, \"bill_depth_mm\": 20.3, \"flipper_length_mm\": 191.0, \"body_mass_g\": 4600.0, \"sex\": \"Male\"}, {\"species\": \"Adelie\", \"island\": \"Biscoe\", \"bill_length_mm\": 39.7, \"bill_depth_mm\": 17.7, \"flipper_length_mm\": 193.0, \"body_mass_g\": 3200.0, \"sex\": \"Female\"}, {\"species\": \"Adelie\", \"island\": \"Biscoe\", \"bill_length_mm\": 42.2, \"bill_depth_mm\": 19.5, \"flipper_length_mm\": 197.0, \"body_mass_g\": 4275.0, \"sex\": \"Male\"}, {\"species\": \"Adelie\", \"island\": \"Biscoe\", \"bill_length_mm\": 39.6, \"bill_depth_mm\": 20.7, \"flipper_length_mm\": 191.0, \"body_mass_g\": 3900.0, \"sex\": \"Female\"}, {\"species\": \"Adelie\", \"island\": \"Biscoe\", \"bill_length_mm\": 42.7, \"bill_depth_mm\": 18.3, \"flipper_length_mm\": 196.0, \"body_mass_g\": 4075.0, \"sex\": \"Male\"}, {\"species\": \"Adelie\", \"island\": \"Torgersen\", \"bill_length_mm\": 38.6, \"bill_depth_mm\": 17.0, \"flipper_length_mm\": 188.0, \"body_mass_g\": 2900.0, \"sex\": \"Female\"}, {\"species\": \"Adelie\", \"island\": \"Torgersen\", \"bill_length_mm\": 37.3, \"bill_depth_mm\": 20.5, \"flipper_length_mm\": 199.0, \"body_mass_g\": 3775.0, \"sex\": \"Male\"}, {\"species\": \"Adelie\", \"island\": \"Torgersen\", \"bill_length_mm\": 35.7, \"bill_depth_mm\": 17.0, \"flipper_length_mm\": 189.0, \"body_mass_g\": 3350.0, \"sex\": \"Female\"}, {\"species\": \"Adelie\", \"island\": \"Torgersen\", \"bill_length_mm\": 41.1, \"bill_depth_mm\": 18.6, \"flipper_length_mm\": 189.0, \"body_mass_g\": 3325.0, \"sex\": \"Male\"}, {\"species\": \"Adelie\", \"island\": \"Torgersen\", \"bill_length_mm\": 36.2, \"bill_depth_mm\": 17.2, \"flipper_length_mm\": 187.0, \"body_mass_g\": 3150.0, \"sex\": \"Female\"}, {\"species\": \"Adelie\", \"island\": \"Torgersen\", \"bill_length_mm\": 37.7, \"bill_depth_mm\": 19.8, \"flipper_length_mm\": 198.0, \"body_mass_g\": 3500.0, \"sex\": \"Male\"}, {\"species\": \"Adelie\", \"island\": \"Torgersen\", \"bill_length_mm\": 40.2, \"bill_depth_mm\": 17.0, \"flipper_length_mm\": 176.0, \"body_mass_g\": 3450.0, \"sex\": \"Female\"}, {\"species\": \"Adelie\", \"island\": \"Torgersen\", \"bill_length_mm\": 41.4, \"bill_depth_mm\": 18.5, \"flipper_length_mm\": 202.0, \"body_mass_g\": 3875.0, \"sex\": \"Male\"}, {\"species\": \"Adelie\", \"island\": \"Torgersen\", \"bill_length_mm\": 35.2, \"bill_depth_mm\": 15.9, \"flipper_length_mm\": 186.0, \"body_mass_g\": 3050.0, \"sex\": \"Female\"}, {\"species\": \"Adelie\", \"island\": \"Torgersen\", \"bill_length_mm\": 40.6, \"bill_depth_mm\": 19.0, \"flipper_length_mm\": 199.0, \"body_mass_g\": 4000.0, \"sex\": \"Male\"}, {\"species\": \"Adelie\", \"island\": \"Torgersen\", \"bill_length_mm\": 38.8, \"bill_depth_mm\": 17.6, \"flipper_length_mm\": 191.0, \"body_mass_g\": 3275.0, \"sex\": \"Female\"}, {\"species\": \"Adelie\", \"island\": \"Torgersen\", \"bill_length_mm\": 41.5, \"bill_depth_mm\": 18.3, \"flipper_length_mm\": 195.0, \"body_mass_g\": 4300.0, \"sex\": \"Male\"}, {\"species\": \"Adelie\", \"island\": \"Torgersen\", \"bill_length_mm\": 39.0, \"bill_depth_mm\": 17.1, \"flipper_length_mm\": 191.0, \"body_mass_g\": 3050.0, \"sex\": \"Female\"}, {\"species\": \"Adelie\", \"island\": \"Torgersen\", \"bill_length_mm\": 44.1, \"bill_depth_mm\": 18.0, \"flipper_length_mm\": 210.0, \"body_mass_g\": 4000.0, \"sex\": \"Male\"}, {\"species\": \"Adelie\", \"island\": \"Torgersen\", \"bill_length_mm\": 38.5, \"bill_depth_mm\": 17.9, \"flipper_length_mm\": 190.0, \"body_mass_g\": 3325.0, \"sex\": \"Female\"}, {\"species\": \"Adelie\", \"island\": \"Torgersen\", \"bill_length_mm\": 43.1, \"bill_depth_mm\": 19.2, \"flipper_length_mm\": 197.0, \"body_mass_g\": 3500.0, \"sex\": \"Male\"}, {\"species\": \"Adelie\", \"island\": \"Dream\", \"bill_length_mm\": 36.8, \"bill_depth_mm\": 18.5, \"flipper_length_mm\": 193.0, \"body_mass_g\": 3500.0, \"sex\": \"Female\"}, {\"species\": \"Adelie\", \"island\": \"Dream\", \"bill_length_mm\": 37.5, \"bill_depth_mm\": 18.5, \"flipper_length_mm\": 199.0, \"body_mass_g\": 4475.0, \"sex\": \"Male\"}, {\"species\": \"Adelie\", \"island\": \"Dream\", \"bill_length_mm\": 38.1, \"bill_depth_mm\": 17.6, \"flipper_length_mm\": 187.0, \"body_mass_g\": 3425.0, \"sex\": \"Female\"}, {\"species\": \"Adelie\", \"island\": \"Dream\", \"bill_length_mm\": 41.1, \"bill_depth_mm\": 17.5, \"flipper_length_mm\": 190.0, \"body_mass_g\": 3900.0, \"sex\": \"Male\"}, {\"species\": \"Adelie\", \"island\": \"Dream\", \"bill_length_mm\": 35.6, \"bill_depth_mm\": 17.5, \"flipper_length_mm\": 191.0, \"body_mass_g\": 3175.0, \"sex\": \"Female\"}, {\"species\": \"Adelie\", \"island\": \"Dream\", \"bill_length_mm\": 40.2, \"bill_depth_mm\": 20.1, \"flipper_length_mm\": 200.0, \"body_mass_g\": 3975.0, \"sex\": \"Male\"}, {\"species\": \"Adelie\", \"island\": \"Dream\", \"bill_length_mm\": 37.0, \"bill_depth_mm\": 16.5, \"flipper_length_mm\": 185.0, \"body_mass_g\": 3400.0, \"sex\": \"Female\"}, {\"species\": \"Adelie\", \"island\": \"Dream\", \"bill_length_mm\": 39.7, \"bill_depth_mm\": 17.9, \"flipper_length_mm\": 193.0, \"body_mass_g\": 4250.0, \"sex\": \"Male\"}, {\"species\": \"Adelie\", \"island\": \"Dream\", \"bill_length_mm\": 40.2, \"bill_depth_mm\": 17.1, \"flipper_length_mm\": 193.0, \"body_mass_g\": 3400.0, \"sex\": \"Female\"}, {\"species\": \"Adelie\", \"island\": \"Dream\", \"bill_length_mm\": 40.6, \"bill_depth_mm\": 17.2, \"flipper_length_mm\": 187.0, \"body_mass_g\": 3475.0, \"sex\": \"Male\"}, {\"species\": \"Adelie\", \"island\": \"Dream\", \"bill_length_mm\": 32.1, \"bill_depth_mm\": 15.5, \"flipper_length_mm\": 188.0, \"body_mass_g\": 3050.0, \"sex\": \"Female\"}, {\"species\": \"Adelie\", \"island\": \"Dream\", \"bill_length_mm\": 40.7, \"bill_depth_mm\": 17.0, \"flipper_length_mm\": 190.0, \"body_mass_g\": 3725.0, \"sex\": \"Male\"}, {\"species\": \"Adelie\", \"island\": \"Dream\", \"bill_length_mm\": 37.3, \"bill_depth_mm\": 16.8, \"flipper_length_mm\": 192.0, \"body_mass_g\": 3000.0, \"sex\": \"Female\"}, {\"species\": \"Adelie\", \"island\": \"Dream\", \"bill_length_mm\": 39.0, \"bill_depth_mm\": 18.7, \"flipper_length_mm\": 185.0, \"body_mass_g\": 3650.0, \"sex\": \"Male\"}, {\"species\": \"Adelie\", \"island\": \"Dream\", \"bill_length_mm\": 39.2, \"bill_depth_mm\": 18.6, \"flipper_length_mm\": 190.0, \"body_mass_g\": 4250.0, \"sex\": \"Male\"}, {\"species\": \"Adelie\", \"island\": \"Dream\", \"bill_length_mm\": 36.6, \"bill_depth_mm\": 18.4, \"flipper_length_mm\": 184.0, \"body_mass_g\": 3475.0, \"sex\": \"Female\"}, {\"species\": \"Adelie\", \"island\": \"Dream\", \"bill_length_mm\": 36.0, \"bill_depth_mm\": 17.8, \"flipper_length_mm\": 195.0, \"body_mass_g\": 3450.0, \"sex\": \"Female\"}, {\"species\": \"Adelie\", \"island\": \"Dream\", \"bill_length_mm\": 37.8, \"bill_depth_mm\": 18.1, \"flipper_length_mm\": 193.0, \"body_mass_g\": 3750.0, \"sex\": \"Male\"}, {\"species\": \"Adelie\", \"island\": \"Dream\", \"bill_length_mm\": 36.0, \"bill_depth_mm\": 17.1, \"flipper_length_mm\": 187.0, \"body_mass_g\": 3700.0, \"sex\": \"Female\"}, {\"species\": \"Adelie\", \"island\": \"Dream\", \"bill_length_mm\": 41.5, \"bill_depth_mm\": 18.5, \"flipper_length_mm\": 201.0, \"body_mass_g\": 4000.0, \"sex\": \"Male\"}, {\"species\": \"Chinstrap\", \"island\": \"Dream\", \"bill_length_mm\": 46.5, \"bill_depth_mm\": 17.9, \"flipper_length_mm\": 192.0, \"body_mass_g\": 3500.0, \"sex\": \"Female\"}, {\"species\": \"Chinstrap\", \"island\": \"Dream\", \"bill_length_mm\": 50.0, \"bill_depth_mm\": 19.5, \"flipper_length_mm\": 196.0, \"body_mass_g\": 3900.0, \"sex\": \"Male\"}, {\"species\": \"Chinstrap\", \"island\": \"Dream\", \"bill_length_mm\": 51.3, \"bill_depth_mm\": 19.2, \"flipper_length_mm\": 193.0, \"body_mass_g\": 3650.0, \"sex\": \"Male\"}, {\"species\": \"Chinstrap\", \"island\": \"Dream\", \"bill_length_mm\": 45.4, \"bill_depth_mm\": 18.7, \"flipper_length_mm\": 188.0, \"body_mass_g\": 3525.0, \"sex\": \"Female\"}, {\"species\": \"Chinstrap\", \"island\": \"Dream\", \"bill_length_mm\": 52.7, \"bill_depth_mm\": 19.8, \"flipper_length_mm\": 197.0, \"body_mass_g\": 3725.0, \"sex\": \"Male\"}, {\"species\": \"Chinstrap\", \"island\": \"Dream\", \"bill_length_mm\": 45.2, \"bill_depth_mm\": 17.8, \"flipper_length_mm\": 198.0, \"body_mass_g\": 3950.0, \"sex\": \"Female\"}, {\"species\": \"Chinstrap\", \"island\": \"Dream\", \"bill_length_mm\": 46.1, \"bill_depth_mm\": 18.2, \"flipper_length_mm\": 178.0, \"body_mass_g\": 3250.0, \"sex\": \"Female\"}, {\"species\": \"Chinstrap\", \"island\": \"Dream\", \"bill_length_mm\": 51.3, \"bill_depth_mm\": 18.2, \"flipper_length_mm\": 197.0, \"body_mass_g\": 3750.0, \"sex\": \"Male\"}, {\"species\": \"Chinstrap\", \"island\": \"Dream\", \"bill_length_mm\": 46.0, \"bill_depth_mm\": 18.9, \"flipper_length_mm\": 195.0, \"body_mass_g\": 4150.0, \"sex\": \"Female\"}, {\"species\": \"Chinstrap\", \"island\": \"Dream\", \"bill_length_mm\": 51.3, \"bill_depth_mm\": 19.9, \"flipper_length_mm\": 198.0, \"body_mass_g\": 3700.0, \"sex\": \"Male\"}, {\"species\": \"Chinstrap\", \"island\": \"Dream\", \"bill_length_mm\": 46.6, \"bill_depth_mm\": 17.8, \"flipper_length_mm\": 193.0, \"body_mass_g\": 3800.0, \"sex\": \"Female\"}, {\"species\": \"Chinstrap\", \"island\": \"Dream\", \"bill_length_mm\": 51.7, \"bill_depth_mm\": 20.3, \"flipper_length_mm\": 194.0, \"body_mass_g\": 3775.0, \"sex\": \"Male\"}, {\"species\": \"Chinstrap\", \"island\": \"Dream\", \"bill_length_mm\": 47.0, \"bill_depth_mm\": 17.3, \"flipper_length_mm\": 185.0, \"body_mass_g\": 3700.0, \"sex\": \"Female\"}, {\"species\": \"Chinstrap\", \"island\": \"Dream\", \"bill_length_mm\": 52.0, \"bill_depth_mm\": 18.1, \"flipper_length_mm\": 201.0, \"body_mass_g\": 4050.0, \"sex\": \"Male\"}, {\"species\": \"Chinstrap\", \"island\": \"Dream\", \"bill_length_mm\": 45.9, \"bill_depth_mm\": 17.1, \"flipper_length_mm\": 190.0, \"body_mass_g\": 3575.0, \"sex\": \"Female\"}, {\"species\": \"Chinstrap\", \"island\": \"Dream\", \"bill_length_mm\": 50.5, \"bill_depth_mm\": 19.6, \"flipper_length_mm\": 201.0, \"body_mass_g\": 4050.0, \"sex\": \"Male\"}, {\"species\": \"Chinstrap\", \"island\": \"Dream\", \"bill_length_mm\": 50.3, \"bill_depth_mm\": 20.0, \"flipper_length_mm\": 197.0, \"body_mass_g\": 3300.0, \"sex\": \"Male\"}, {\"species\": \"Chinstrap\", \"island\": \"Dream\", \"bill_length_mm\": 58.0, \"bill_depth_mm\": 17.8, \"flipper_length_mm\": 181.0, \"body_mass_g\": 3700.0, \"sex\": \"Female\"}, {\"species\": \"Chinstrap\", \"island\": \"Dream\", \"bill_length_mm\": 46.4, \"bill_depth_mm\": 18.6, \"flipper_length_mm\": 190.0, \"body_mass_g\": 3450.0, \"sex\": \"Female\"}, {\"species\": \"Chinstrap\", \"island\": \"Dream\", \"bill_length_mm\": 49.2, \"bill_depth_mm\": 18.2, \"flipper_length_mm\": 195.0, \"body_mass_g\": 4400.0, \"sex\": \"Male\"}, {\"species\": \"Chinstrap\", \"island\": \"Dream\", \"bill_length_mm\": 42.4, \"bill_depth_mm\": 17.3, \"flipper_length_mm\": 181.0, \"body_mass_g\": 3600.0, \"sex\": \"Female\"}, {\"species\": \"Chinstrap\", \"island\": \"Dream\", \"bill_length_mm\": 48.5, \"bill_depth_mm\": 17.5, \"flipper_length_mm\": 191.0, \"body_mass_g\": 3400.0, \"sex\": \"Male\"}, {\"species\": \"Chinstrap\", \"island\": \"Dream\", \"bill_length_mm\": 43.2, \"bill_depth_mm\": 16.6, \"flipper_length_mm\": 187.0, \"body_mass_g\": 2900.0, \"sex\": \"Female\"}, {\"species\": \"Chinstrap\", \"island\": \"Dream\", \"bill_length_mm\": 50.6, \"bill_depth_mm\": 19.4, \"flipper_length_mm\": 193.0, \"body_mass_g\": 3800.0, \"sex\": \"Male\"}, {\"species\": \"Chinstrap\", \"island\": \"Dream\", \"bill_length_mm\": 46.7, \"bill_depth_mm\": 17.9, \"flipper_length_mm\": 195.0, \"body_mass_g\": 3300.0, \"sex\": \"Female\"}, {\"species\": \"Chinstrap\", \"island\": \"Dream\", \"bill_length_mm\": 52.0, \"bill_depth_mm\": 19.0, \"flipper_length_mm\": 197.0, \"body_mass_g\": 4150.0, \"sex\": \"Male\"}, {\"species\": \"Chinstrap\", \"island\": \"Dream\", \"bill_length_mm\": 50.5, \"bill_depth_mm\": 18.4, \"flipper_length_mm\": 200.0, \"body_mass_g\": 3400.0, \"sex\": \"Female\"}, {\"species\": \"Chinstrap\", \"island\": \"Dream\", \"bill_length_mm\": 49.5, \"bill_depth_mm\": 19.0, \"flipper_length_mm\": 200.0, \"body_mass_g\": 3800.0, \"sex\": \"Male\"}, {\"species\": \"Chinstrap\", \"island\": \"Dream\", \"bill_length_mm\": 46.4, \"bill_depth_mm\": 17.8, \"flipper_length_mm\": 191.0, \"body_mass_g\": 3700.0, \"sex\": \"Female\"}, {\"species\": \"Chinstrap\", \"island\": \"Dream\", \"bill_length_mm\": 52.8, \"bill_depth_mm\": 20.0, \"flipper_length_mm\": 205.0, \"body_mass_g\": 4550.0, \"sex\": \"Male\"}, {\"species\": \"Chinstrap\", \"island\": \"Dream\", \"bill_length_mm\": 40.9, \"bill_depth_mm\": 16.6, \"flipper_length_mm\": 187.0, \"body_mass_g\": 3200.0, \"sex\": \"Female\"}, {\"species\": \"Chinstrap\", \"island\": \"Dream\", \"bill_length_mm\": 54.2, \"bill_depth_mm\": 20.8, \"flipper_length_mm\": 201.0, \"body_mass_g\": 4300.0, \"sex\": \"Male\"}, {\"species\": \"Chinstrap\", \"island\": \"Dream\", \"bill_length_mm\": 42.5, \"bill_depth_mm\": 16.7, \"flipper_length_mm\": 187.0, \"body_mass_g\": 3350.0, \"sex\": \"Female\"}, {\"species\": \"Chinstrap\", \"island\": \"Dream\", \"bill_length_mm\": 51.0, \"bill_depth_mm\": 18.8, \"flipper_length_mm\": 203.0, \"body_mass_g\": 4100.0, \"sex\": \"Male\"}, {\"species\": \"Chinstrap\", \"island\": \"Dream\", \"bill_length_mm\": 49.7, \"bill_depth_mm\": 18.6, \"flipper_length_mm\": 195.0, \"body_mass_g\": 3600.0, \"sex\": \"Male\"}, {\"species\": \"Chinstrap\", \"island\": \"Dream\", \"bill_length_mm\": 47.5, \"bill_depth_mm\": 16.8, \"flipper_length_mm\": 199.0, \"body_mass_g\": 3900.0, \"sex\": \"Female\"}, {\"species\": \"Chinstrap\", \"island\": \"Dream\", \"bill_length_mm\": 47.6, \"bill_depth_mm\": 18.3, \"flipper_length_mm\": 195.0, \"body_mass_g\": 3850.0, \"sex\": \"Female\"}, {\"species\": \"Chinstrap\", \"island\": \"Dream\", \"bill_length_mm\": 52.0, \"bill_depth_mm\": 20.7, \"flipper_length_mm\": 210.0, \"body_mass_g\": 4800.0, \"sex\": \"Male\"}, {\"species\": \"Chinstrap\", \"island\": \"Dream\", \"bill_length_mm\": 46.9, \"bill_depth_mm\": 16.6, \"flipper_length_mm\": 192.0, \"body_mass_g\": 2700.0, \"sex\": \"Female\"}, {\"species\": \"Chinstrap\", \"island\": \"Dream\", \"bill_length_mm\": 53.5, \"bill_depth_mm\": 19.9, \"flipper_length_mm\": 205.0, \"body_mass_g\": 4500.0, \"sex\": \"Male\"}, {\"species\": \"Chinstrap\", \"island\": \"Dream\", \"bill_length_mm\": 49.0, \"bill_depth_mm\": 19.5, \"flipper_length_mm\": 210.0, \"body_mass_g\": 3950.0, \"sex\": \"Male\"}, {\"species\": \"Chinstrap\", \"island\": \"Dream\", \"bill_length_mm\": 46.2, \"bill_depth_mm\": 17.5, \"flipper_length_mm\": 187.0, \"body_mass_g\": 3650.0, \"sex\": \"Female\"}, {\"species\": \"Chinstrap\", \"island\": \"Dream\", \"bill_length_mm\": 50.9, \"bill_depth_mm\": 19.1, \"flipper_length_mm\": 196.0, \"body_mass_g\": 3550.0, \"sex\": \"Male\"}, {\"species\": \"Chinstrap\", \"island\": \"Dream\", \"bill_length_mm\": 45.5, \"bill_depth_mm\": 17.0, \"flipper_length_mm\": 196.0, \"body_mass_g\": 3500.0, \"sex\": \"Female\"}, {\"species\": \"Chinstrap\", \"island\": \"Dream\", \"bill_length_mm\": 50.9, \"bill_depth_mm\": 17.9, \"flipper_length_mm\": 196.0, \"body_mass_g\": 3675.0, \"sex\": \"Female\"}, {\"species\": \"Chinstrap\", \"island\": \"Dream\", \"bill_length_mm\": 50.8, \"bill_depth_mm\": 18.5, \"flipper_length_mm\": 201.0, \"body_mass_g\": 4450.0, \"sex\": \"Male\"}, {\"species\": \"Chinstrap\", \"island\": \"Dream\", \"bill_length_mm\": 50.1, \"bill_depth_mm\": 17.9, \"flipper_length_mm\": 190.0, \"body_mass_g\": 3400.0, \"sex\": \"Female\"}, {\"species\": \"Chinstrap\", \"island\": \"Dream\", \"bill_length_mm\": 49.0, \"bill_depth_mm\": 19.6, \"flipper_length_mm\": 212.0, \"body_mass_g\": 4300.0, \"sex\": \"Male\"}, {\"species\": \"Chinstrap\", \"island\": \"Dream\", \"bill_length_mm\": 51.5, \"bill_depth_mm\": 18.7, \"flipper_length_mm\": 187.0, \"body_mass_g\": 3250.0, \"sex\": \"Male\"}, {\"species\": \"Chinstrap\", \"island\": \"Dream\", \"bill_length_mm\": 49.8, \"bill_depth_mm\": 17.3, \"flipper_length_mm\": 198.0, \"body_mass_g\": 3675.0, \"sex\": \"Female\"}, {\"species\": \"Chinstrap\", \"island\": \"Dream\", \"bill_length_mm\": 48.1, \"bill_depth_mm\": 16.4, \"flipper_length_mm\": 199.0, \"body_mass_g\": 3325.0, \"sex\": \"Female\"}, {\"species\": \"Chinstrap\", \"island\": \"Dream\", \"bill_length_mm\": 51.4, \"bill_depth_mm\": 19.0, \"flipper_length_mm\": 201.0, \"body_mass_g\": 3950.0, \"sex\": \"Male\"}, {\"species\": \"Chinstrap\", \"island\": \"Dream\", \"bill_length_mm\": 45.7, \"bill_depth_mm\": 17.3, \"flipper_length_mm\": 193.0, \"body_mass_g\": 3600.0, \"sex\": \"Female\"}, {\"species\": \"Chinstrap\", \"island\": \"Dream\", \"bill_length_mm\": 50.7, \"bill_depth_mm\": 19.7, \"flipper_length_mm\": 203.0, \"body_mass_g\": 4050.0, \"sex\": \"Male\"}, {\"species\": \"Chinstrap\", \"island\": \"Dream\", \"bill_length_mm\": 42.5, \"bill_depth_mm\": 17.3, \"flipper_length_mm\": 187.0, \"body_mass_g\": 3350.0, \"sex\": \"Female\"}, {\"species\": \"Chinstrap\", \"island\": \"Dream\", \"bill_length_mm\": 52.2, \"bill_depth_mm\": 18.8, \"flipper_length_mm\": 197.0, \"body_mass_g\": 3450.0, \"sex\": \"Male\"}, {\"species\": \"Chinstrap\", \"island\": \"Dream\", \"bill_length_mm\": 45.2, \"bill_depth_mm\": 16.6, \"flipper_length_mm\": 191.0, \"body_mass_g\": 3250.0, \"sex\": \"Female\"}, {\"species\": \"Chinstrap\", \"island\": \"Dream\", \"bill_length_mm\": 49.3, \"bill_depth_mm\": 19.9, \"flipper_length_mm\": 203.0, \"body_mass_g\": 4050.0, \"sex\": \"Male\"}, {\"species\": \"Chinstrap\", \"island\": \"Dream\", \"bill_length_mm\": 50.2, \"bill_depth_mm\": 18.8, \"flipper_length_mm\": 202.0, \"body_mass_g\": 3800.0, \"sex\": \"Male\"}, {\"species\": \"Chinstrap\", \"island\": \"Dream\", \"bill_length_mm\": 45.6, \"bill_depth_mm\": 19.4, \"flipper_length_mm\": 194.0, \"body_mass_g\": 3525.0, \"sex\": \"Female\"}, {\"species\": \"Chinstrap\", \"island\": \"Dream\", \"bill_length_mm\": 51.9, \"bill_depth_mm\": 19.5, \"flipper_length_mm\": 206.0, \"body_mass_g\": 3950.0, \"sex\": \"Male\"}, {\"species\": \"Chinstrap\", \"island\": \"Dream\", \"bill_length_mm\": 46.8, \"bill_depth_mm\": 16.5, \"flipper_length_mm\": 189.0, \"body_mass_g\": 3650.0, \"sex\": \"Female\"}, {\"species\": \"Chinstrap\", \"island\": \"Dream\", \"bill_length_mm\": 45.7, \"bill_depth_mm\": 17.0, \"flipper_length_mm\": 195.0, \"body_mass_g\": 3650.0, \"sex\": \"Female\"}, {\"species\": \"Chinstrap\", \"island\": \"Dream\", \"bill_length_mm\": 55.8, \"bill_depth_mm\": 19.8, \"flipper_length_mm\": 207.0, \"body_mass_g\": 4000.0, \"sex\": \"Male\"}, {\"species\": \"Chinstrap\", \"island\": \"Dream\", \"bill_length_mm\": 43.5, \"bill_depth_mm\": 18.1, \"flipper_length_mm\": 202.0, \"body_mass_g\": 3400.0, \"sex\": \"Female\"}, {\"species\": \"Chinstrap\", \"island\": \"Dream\", \"bill_length_mm\": 49.6, \"bill_depth_mm\": 18.2, \"flipper_length_mm\": 193.0, \"body_mass_g\": 3775.0, \"sex\": \"Male\"}, {\"species\": \"Chinstrap\", \"island\": \"Dream\", \"bill_length_mm\": 50.8, \"bill_depth_mm\": 19.0, \"flipper_length_mm\": 210.0, \"body_mass_g\": 4100.0, \"sex\": \"Male\"}, {\"species\": \"Chinstrap\", \"island\": \"Dream\", \"bill_length_mm\": 50.2, \"bill_depth_mm\": 18.7, \"flipper_length_mm\": 198.0, \"body_mass_g\": 3775.0, \"sex\": \"Female\"}, {\"species\": \"Gentoo\", \"island\": \"Biscoe\", \"bill_length_mm\": 46.1, \"bill_depth_mm\": 13.2, \"flipper_length_mm\": 211.0, \"body_mass_g\": 4500.0, \"sex\": \"Female\"}, {\"species\": \"Gentoo\", \"island\": \"Biscoe\", \"bill_length_mm\": 50.0, \"bill_depth_mm\": 16.3, \"flipper_length_mm\": 230.0, \"body_mass_g\": 5700.0, \"sex\": \"Male\"}, {\"species\": \"Gentoo\", \"island\": \"Biscoe\", \"bill_length_mm\": 48.7, \"bill_depth_mm\": 14.1, \"flipper_length_mm\": 210.0, \"body_mass_g\": 4450.0, \"sex\": \"Female\"}, {\"species\": \"Gentoo\", \"island\": \"Biscoe\", \"bill_length_mm\": 50.0, \"bill_depth_mm\": 15.2, \"flipper_length_mm\": 218.0, \"body_mass_g\": 5700.0, \"sex\": \"Male\"}, {\"species\": \"Gentoo\", \"island\": \"Biscoe\", \"bill_length_mm\": 47.6, \"bill_depth_mm\": 14.5, \"flipper_length_mm\": 215.0, \"body_mass_g\": 5400.0, \"sex\": \"Male\"}, {\"species\": \"Gentoo\", \"island\": \"Biscoe\", \"bill_length_mm\": 46.5, \"bill_depth_mm\": 13.5, \"flipper_length_mm\": 210.0, \"body_mass_g\": 4550.0, \"sex\": \"Female\"}, {\"species\": \"Gentoo\", \"island\": \"Biscoe\", \"bill_length_mm\": 45.4, \"bill_depth_mm\": 14.6, \"flipper_length_mm\": 211.0, \"body_mass_g\": 4800.0, \"sex\": \"Female\"}, {\"species\": \"Gentoo\", \"island\": \"Biscoe\", \"bill_length_mm\": 46.7, \"bill_depth_mm\": 15.3, \"flipper_length_mm\": 219.0, \"body_mass_g\": 5200.0, \"sex\": \"Male\"}, {\"species\": \"Gentoo\", \"island\": \"Biscoe\", \"bill_length_mm\": 43.3, \"bill_depth_mm\": 13.4, \"flipper_length_mm\": 209.0, \"body_mass_g\": 4400.0, \"sex\": \"Female\"}, {\"species\": \"Gentoo\", \"island\": \"Biscoe\", \"bill_length_mm\": 46.8, \"bill_depth_mm\": 15.4, \"flipper_length_mm\": 215.0, \"body_mass_g\": 5150.0, \"sex\": \"Male\"}, {\"species\": \"Gentoo\", \"island\": \"Biscoe\", \"bill_length_mm\": 40.9, \"bill_depth_mm\": 13.7, \"flipper_length_mm\": 214.0, \"body_mass_g\": 4650.0, \"sex\": \"Female\"}, {\"species\": \"Gentoo\", \"island\": \"Biscoe\", \"bill_length_mm\": 49.0, \"bill_depth_mm\": 16.1, \"flipper_length_mm\": 216.0, \"body_mass_g\": 5550.0, \"sex\": \"Male\"}, {\"species\": \"Gentoo\", \"island\": \"Biscoe\", \"bill_length_mm\": 45.5, \"bill_depth_mm\": 13.7, \"flipper_length_mm\": 214.0, \"body_mass_g\": 4650.0, \"sex\": \"Female\"}, {\"species\": \"Gentoo\", \"island\": \"Biscoe\", \"bill_length_mm\": 48.4, \"bill_depth_mm\": 14.6, \"flipper_length_mm\": 213.0, \"body_mass_g\": 5850.0, \"sex\": \"Male\"}, {\"species\": \"Gentoo\", \"island\": \"Biscoe\", \"bill_length_mm\": 45.8, \"bill_depth_mm\": 14.6, \"flipper_length_mm\": 210.0, \"body_mass_g\": 4200.0, \"sex\": \"Female\"}, {\"species\": \"Gentoo\", \"island\": \"Biscoe\", \"bill_length_mm\": 49.3, \"bill_depth_mm\": 15.7, \"flipper_length_mm\": 217.0, \"body_mass_g\": 5850.0, \"sex\": \"Male\"}, {\"species\": \"Gentoo\", \"island\": \"Biscoe\", \"bill_length_mm\": 42.0, \"bill_depth_mm\": 13.5, \"flipper_length_mm\": 210.0, \"body_mass_g\": 4150.0, \"sex\": \"Female\"}, {\"species\": \"Gentoo\", \"island\": \"Biscoe\", \"bill_length_mm\": 49.2, \"bill_depth_mm\": 15.2, \"flipper_length_mm\": 221.0, \"body_mass_g\": 6300.0, \"sex\": \"Male\"}, {\"species\": \"Gentoo\", \"island\": \"Biscoe\", \"bill_length_mm\": 46.2, \"bill_depth_mm\": 14.5, \"flipper_length_mm\": 209.0, \"body_mass_g\": 4800.0, \"sex\": \"Female\"}, {\"species\": \"Gentoo\", \"island\": \"Biscoe\", \"bill_length_mm\": 48.7, \"bill_depth_mm\": 15.1, \"flipper_length_mm\": 222.0, \"body_mass_g\": 5350.0, \"sex\": \"Male\"}, {\"species\": \"Gentoo\", \"island\": \"Biscoe\", \"bill_length_mm\": 50.2, \"bill_depth_mm\": 14.3, \"flipper_length_mm\": 218.0, \"body_mass_g\": 5700.0, \"sex\": \"Male\"}, {\"species\": \"Gentoo\", \"island\": \"Biscoe\", \"bill_length_mm\": 45.1, \"bill_depth_mm\": 14.5, \"flipper_length_mm\": 215.0, \"body_mass_g\": 5000.0, \"sex\": \"Female\"}, {\"species\": \"Gentoo\", \"island\": \"Biscoe\", \"bill_length_mm\": 46.5, \"bill_depth_mm\": 14.5, \"flipper_length_mm\": 213.0, \"body_mass_g\": 4400.0, \"sex\": \"Female\"}, {\"species\": \"Gentoo\", \"island\": \"Biscoe\", \"bill_length_mm\": 46.3, \"bill_depth_mm\": 15.8, \"flipper_length_mm\": 215.0, \"body_mass_g\": 5050.0, \"sex\": \"Male\"}, {\"species\": \"Gentoo\", \"island\": \"Biscoe\", \"bill_length_mm\": 42.9, \"bill_depth_mm\": 13.1, \"flipper_length_mm\": 215.0, \"body_mass_g\": 5000.0, \"sex\": \"Female\"}, {\"species\": \"Gentoo\", \"island\": \"Biscoe\", \"bill_length_mm\": 46.1, \"bill_depth_mm\": 15.1, \"flipper_length_mm\": 215.0, \"body_mass_g\": 5100.0, \"sex\": \"Male\"}, {\"species\": \"Gentoo\", \"island\": \"Biscoe\", \"bill_length_mm\": 44.5, \"bill_depth_mm\": 14.3, \"flipper_length_mm\": 216.0, \"body_mass_g\": 4100.0, \"sex\": null}, {\"species\": \"Gentoo\", \"island\": \"Biscoe\", \"bill_length_mm\": 47.8, \"bill_depth_mm\": 15.0, \"flipper_length_mm\": 215.0, \"body_mass_g\": 5650.0, \"sex\": \"Male\"}, {\"species\": \"Gentoo\", \"island\": \"Biscoe\", \"bill_length_mm\": 48.2, \"bill_depth_mm\": 14.3, \"flipper_length_mm\": 210.0, \"body_mass_g\": 4600.0, \"sex\": \"Female\"}, {\"species\": \"Gentoo\", \"island\": \"Biscoe\", \"bill_length_mm\": 50.0, \"bill_depth_mm\": 15.3, \"flipper_length_mm\": 220.0, \"body_mass_g\": 5550.0, \"sex\": \"Male\"}, {\"species\": \"Gentoo\", \"island\": \"Biscoe\", \"bill_length_mm\": 47.3, \"bill_depth_mm\": 15.3, \"flipper_length_mm\": 222.0, \"body_mass_g\": 5250.0, \"sex\": \"Male\"}, {\"species\": \"Gentoo\", \"island\": \"Biscoe\", \"bill_length_mm\": 42.8, \"bill_depth_mm\": 14.2, \"flipper_length_mm\": 209.0, \"body_mass_g\": 4700.0, \"sex\": \"Female\"}, {\"species\": \"Gentoo\", \"island\": \"Biscoe\", \"bill_length_mm\": 45.1, \"bill_depth_mm\": 14.5, \"flipper_length_mm\": 207.0, \"body_mass_g\": 5050.0, \"sex\": \"Female\"}, {\"species\": \"Gentoo\", \"island\": \"Biscoe\", \"bill_length_mm\": 59.6, \"bill_depth_mm\": 17.0, \"flipper_length_mm\": 230.0, \"body_mass_g\": 6050.0, \"sex\": \"Male\"}, {\"species\": \"Gentoo\", \"island\": \"Biscoe\", \"bill_length_mm\": 49.1, \"bill_depth_mm\": 14.8, \"flipper_length_mm\": 220.0, \"body_mass_g\": 5150.0, \"sex\": \"Female\"}, {\"species\": \"Gentoo\", \"island\": \"Biscoe\", \"bill_length_mm\": 48.4, \"bill_depth_mm\": 16.3, \"flipper_length_mm\": 220.0, \"body_mass_g\": 5400.0, \"sex\": \"Male\"}, {\"species\": \"Gentoo\", \"island\": \"Biscoe\", \"bill_length_mm\": 42.6, \"bill_depth_mm\": 13.7, \"flipper_length_mm\": 213.0, \"body_mass_g\": 4950.0, \"sex\": \"Female\"}, {\"species\": \"Gentoo\", \"island\": \"Biscoe\", \"bill_length_mm\": 44.4, \"bill_depth_mm\": 17.3, \"flipper_length_mm\": 219.0, \"body_mass_g\": 5250.0, \"sex\": \"Male\"}, {\"species\": \"Gentoo\", \"island\": \"Biscoe\", \"bill_length_mm\": 44.0, \"bill_depth_mm\": 13.6, \"flipper_length_mm\": 208.0, \"body_mass_g\": 4350.0, \"sex\": \"Female\"}, {\"species\": \"Gentoo\", \"island\": \"Biscoe\", \"bill_length_mm\": 48.7, \"bill_depth_mm\": 15.7, \"flipper_length_mm\": 208.0, \"body_mass_g\": 5350.0, \"sex\": \"Male\"}, {\"species\": \"Gentoo\", \"island\": \"Biscoe\", \"bill_length_mm\": 42.7, \"bill_depth_mm\": 13.7, \"flipper_length_mm\": 208.0, \"body_mass_g\": 3950.0, \"sex\": \"Female\"}, {\"species\": \"Gentoo\", \"island\": \"Biscoe\", \"bill_length_mm\": 49.6, \"bill_depth_mm\": 16.0, \"flipper_length_mm\": 225.0, \"body_mass_g\": 5700.0, \"sex\": \"Male\"}, {\"species\": \"Gentoo\", \"island\": \"Biscoe\", \"bill_length_mm\": 45.3, \"bill_depth_mm\": 13.7, \"flipper_length_mm\": 210.0, \"body_mass_g\": 4300.0, \"sex\": \"Female\"}, {\"species\": \"Gentoo\", \"island\": \"Biscoe\", \"bill_length_mm\": 49.6, \"bill_depth_mm\": 15.0, \"flipper_length_mm\": 216.0, \"body_mass_g\": 4750.0, \"sex\": \"Male\"}, {\"species\": \"Gentoo\", \"island\": \"Biscoe\", \"bill_length_mm\": 50.5, \"bill_depth_mm\": 15.9, \"flipper_length_mm\": 222.0, \"body_mass_g\": 5550.0, \"sex\": \"Male\"}, {\"species\": \"Gentoo\", \"island\": \"Biscoe\", \"bill_length_mm\": 43.6, \"bill_depth_mm\": 13.9, \"flipper_length_mm\": 217.0, \"body_mass_g\": 4900.0, \"sex\": \"Female\"}, {\"species\": \"Gentoo\", \"island\": \"Biscoe\", \"bill_length_mm\": 45.5, \"bill_depth_mm\": 13.9, \"flipper_length_mm\": 210.0, \"body_mass_g\": 4200.0, \"sex\": \"Female\"}, {\"species\": \"Gentoo\", \"island\": \"Biscoe\", \"bill_length_mm\": 50.5, \"bill_depth_mm\": 15.9, \"flipper_length_mm\": 225.0, \"body_mass_g\": 5400.0, \"sex\": \"Male\"}, {\"species\": \"Gentoo\", \"island\": \"Biscoe\", \"bill_length_mm\": 44.9, \"bill_depth_mm\": 13.3, \"flipper_length_mm\": 213.0, \"body_mass_g\": 5100.0, \"sex\": \"Female\"}, {\"species\": \"Gentoo\", \"island\": \"Biscoe\", \"bill_length_mm\": 45.2, \"bill_depth_mm\": 15.8, \"flipper_length_mm\": 215.0, \"body_mass_g\": 5300.0, \"sex\": \"Male\"}, {\"species\": \"Gentoo\", \"island\": \"Biscoe\", \"bill_length_mm\": 46.6, \"bill_depth_mm\": 14.2, \"flipper_length_mm\": 210.0, \"body_mass_g\": 4850.0, \"sex\": \"Female\"}, {\"species\": \"Gentoo\", \"island\": \"Biscoe\", \"bill_length_mm\": 48.5, \"bill_depth_mm\": 14.1, \"flipper_length_mm\": 220.0, \"body_mass_g\": 5300.0, \"sex\": \"Male\"}, {\"species\": \"Gentoo\", \"island\": \"Biscoe\", \"bill_length_mm\": 45.1, \"bill_depth_mm\": 14.4, \"flipper_length_mm\": 210.0, \"body_mass_g\": 4400.0, \"sex\": \"Female\"}, {\"species\": \"Gentoo\", \"island\": \"Biscoe\", \"bill_length_mm\": 50.1, \"bill_depth_mm\": 15.0, \"flipper_length_mm\": 225.0, \"body_mass_g\": 5000.0, \"sex\": \"Male\"}, {\"species\": \"Gentoo\", \"island\": \"Biscoe\", \"bill_length_mm\": 46.5, \"bill_depth_mm\": 14.4, \"flipper_length_mm\": 217.0, \"body_mass_g\": 4900.0, \"sex\": \"Female\"}, {\"species\": \"Gentoo\", \"island\": \"Biscoe\", \"bill_length_mm\": 45.0, \"bill_depth_mm\": 15.4, \"flipper_length_mm\": 220.0, \"body_mass_g\": 5050.0, \"sex\": \"Male\"}, {\"species\": \"Gentoo\", \"island\": \"Biscoe\", \"bill_length_mm\": 43.8, \"bill_depth_mm\": 13.9, \"flipper_length_mm\": 208.0, \"body_mass_g\": 4300.0, \"sex\": \"Female\"}, {\"species\": \"Gentoo\", \"island\": \"Biscoe\", \"bill_length_mm\": 45.5, \"bill_depth_mm\": 15.0, \"flipper_length_mm\": 220.0, \"body_mass_g\": 5000.0, \"sex\": \"Male\"}, {\"species\": \"Gentoo\", \"island\": \"Biscoe\", \"bill_length_mm\": 43.2, \"bill_depth_mm\": 14.5, \"flipper_length_mm\": 208.0, \"body_mass_g\": 4450.0, \"sex\": \"Female\"}, {\"species\": \"Gentoo\", \"island\": \"Biscoe\", \"bill_length_mm\": 50.4, \"bill_depth_mm\": 15.3, \"flipper_length_mm\": 224.0, \"body_mass_g\": 5550.0, \"sex\": \"Male\"}, {\"species\": \"Gentoo\", \"island\": \"Biscoe\", \"bill_length_mm\": 45.3, \"bill_depth_mm\": 13.8, \"flipper_length_mm\": 208.0, \"body_mass_g\": 4200.0, \"sex\": \"Female\"}, {\"species\": \"Gentoo\", \"island\": \"Biscoe\", \"bill_length_mm\": 46.2, \"bill_depth_mm\": 14.9, \"flipper_length_mm\": 221.0, \"body_mass_g\": 5300.0, \"sex\": \"Male\"}, {\"species\": \"Gentoo\", \"island\": \"Biscoe\", \"bill_length_mm\": 45.7, \"bill_depth_mm\": 13.9, \"flipper_length_mm\": 214.0, \"body_mass_g\": 4400.0, \"sex\": \"Female\"}, {\"species\": \"Gentoo\", \"island\": \"Biscoe\", \"bill_length_mm\": 54.3, \"bill_depth_mm\": 15.7, \"flipper_length_mm\": 231.0, \"body_mass_g\": 5650.0, \"sex\": \"Male\"}, {\"species\": \"Gentoo\", \"island\": \"Biscoe\", \"bill_length_mm\": 45.8, \"bill_depth_mm\": 14.2, \"flipper_length_mm\": 219.0, \"body_mass_g\": 4700.0, \"sex\": \"Female\"}, {\"species\": \"Gentoo\", \"island\": \"Biscoe\", \"bill_length_mm\": 49.8, \"bill_depth_mm\": 16.8, \"flipper_length_mm\": 230.0, \"body_mass_g\": 5700.0, \"sex\": \"Male\"}, {\"species\": \"Gentoo\", \"island\": \"Biscoe\", \"bill_length_mm\": 46.2, \"bill_depth_mm\": 14.4, \"flipper_length_mm\": 214.0, \"body_mass_g\": 4650.0, \"sex\": null}, {\"species\": \"Gentoo\", \"island\": \"Biscoe\", \"bill_length_mm\": 49.5, \"bill_depth_mm\": 16.2, \"flipper_length_mm\": 229.0, \"body_mass_g\": 5800.0, \"sex\": \"Male\"}, {\"species\": \"Gentoo\", \"island\": \"Biscoe\", \"bill_length_mm\": 43.5, \"bill_depth_mm\": 14.2, \"flipper_length_mm\": 220.0, \"body_mass_g\": 4700.0, \"sex\": \"Female\"}, {\"species\": \"Gentoo\", \"island\": \"Biscoe\", \"bill_length_mm\": 50.7, \"bill_depth_mm\": 15.0, \"flipper_length_mm\": 223.0, \"body_mass_g\": 5550.0, \"sex\": \"Male\"}, {\"species\": \"Gentoo\", \"island\": \"Biscoe\", \"bill_length_mm\": 47.7, \"bill_depth_mm\": 15.0, \"flipper_length_mm\": 216.0, \"body_mass_g\": 4750.0, \"sex\": \"Female\"}, {\"species\": \"Gentoo\", \"island\": \"Biscoe\", \"bill_length_mm\": 46.4, \"bill_depth_mm\": 15.6, \"flipper_length_mm\": 221.0, \"body_mass_g\": 5000.0, \"sex\": \"Male\"}, {\"species\": \"Gentoo\", \"island\": \"Biscoe\", \"bill_length_mm\": 48.2, \"bill_depth_mm\": 15.6, \"flipper_length_mm\": 221.0, \"body_mass_g\": 5100.0, \"sex\": \"Male\"}, {\"species\": \"Gentoo\", \"island\": \"Biscoe\", \"bill_length_mm\": 46.5, \"bill_depth_mm\": 14.8, \"flipper_length_mm\": 217.0, \"body_mass_g\": 5200.0, \"sex\": \"Female\"}, {\"species\": \"Gentoo\", \"island\": \"Biscoe\", \"bill_length_mm\": 46.4, \"bill_depth_mm\": 15.0, \"flipper_length_mm\": 216.0, \"body_mass_g\": 4700.0, \"sex\": \"Female\"}, {\"species\": \"Gentoo\", \"island\": \"Biscoe\", \"bill_length_mm\": 48.6, \"bill_depth_mm\": 16.0, \"flipper_length_mm\": 230.0, \"body_mass_g\": 5800.0, \"sex\": \"Male\"}, {\"species\": \"Gentoo\", \"island\": \"Biscoe\", \"bill_length_mm\": 47.5, \"bill_depth_mm\": 14.2, \"flipper_length_mm\": 209.0, \"body_mass_g\": 4600.0, \"sex\": \"Female\"}, {\"species\": \"Gentoo\", \"island\": \"Biscoe\", \"bill_length_mm\": 51.1, \"bill_depth_mm\": 16.3, \"flipper_length_mm\": 220.0, \"body_mass_g\": 6000.0, \"sex\": \"Male\"}, {\"species\": \"Gentoo\", \"island\": \"Biscoe\", \"bill_length_mm\": 45.2, \"bill_depth_mm\": 13.8, \"flipper_length_mm\": 215.0, \"body_mass_g\": 4750.0, \"sex\": \"Female\"}, {\"species\": \"Gentoo\", \"island\": \"Biscoe\", \"bill_length_mm\": 45.2, \"bill_depth_mm\": 16.4, \"flipper_length_mm\": 223.0, \"body_mass_g\": 5950.0, \"sex\": \"Male\"}, {\"species\": \"Gentoo\", \"island\": \"Biscoe\", \"bill_length_mm\": 49.1, \"bill_depth_mm\": 14.5, \"flipper_length_mm\": 212.0, \"body_mass_g\": 4625.0, \"sex\": \"Female\"}, {\"species\": \"Gentoo\", \"island\": \"Biscoe\", \"bill_length_mm\": 52.5, \"bill_depth_mm\": 15.6, \"flipper_length_mm\": 221.0, \"body_mass_g\": 5450.0, \"sex\": \"Male\"}, {\"species\": \"Gentoo\", \"island\": \"Biscoe\", \"bill_length_mm\": 47.4, \"bill_depth_mm\": 14.6, \"flipper_length_mm\": 212.0, \"body_mass_g\": 4725.0, \"sex\": \"Female\"}, {\"species\": \"Gentoo\", \"island\": \"Biscoe\", \"bill_length_mm\": 50.0, \"bill_depth_mm\": 15.9, \"flipper_length_mm\": 224.0, \"body_mass_g\": 5350.0, \"sex\": \"Male\"}, {\"species\": \"Gentoo\", \"island\": \"Biscoe\", \"bill_length_mm\": 44.9, \"bill_depth_mm\": 13.8, \"flipper_length_mm\": 212.0, \"body_mass_g\": 4750.0, \"sex\": \"Female\"}, {\"species\": \"Gentoo\", \"island\": \"Biscoe\", \"bill_length_mm\": 50.8, \"bill_depth_mm\": 17.3, \"flipper_length_mm\": 228.0, \"body_mass_g\": 5600.0, \"sex\": \"Male\"}, {\"species\": \"Gentoo\", \"island\": \"Biscoe\", \"bill_length_mm\": 43.4, \"bill_depth_mm\": 14.4, \"flipper_length_mm\": 218.0, \"body_mass_g\": 4600.0, \"sex\": \"Female\"}, {\"species\": \"Gentoo\", \"island\": \"Biscoe\", \"bill_length_mm\": 51.3, \"bill_depth_mm\": 14.2, \"flipper_length_mm\": 218.0, \"body_mass_g\": 5300.0, \"sex\": \"Male\"}, {\"species\": \"Gentoo\", \"island\": \"Biscoe\", \"bill_length_mm\": 47.5, \"bill_depth_mm\": 14.0, \"flipper_length_mm\": 212.0, \"body_mass_g\": 4875.0, \"sex\": \"Female\"}, {\"species\": \"Gentoo\", \"island\": \"Biscoe\", \"bill_length_mm\": 52.1, \"bill_depth_mm\": 17.0, \"flipper_length_mm\": 230.0, \"body_mass_g\": 5550.0, \"sex\": \"Male\"}, {\"species\": \"Gentoo\", \"island\": \"Biscoe\", \"bill_length_mm\": 47.5, \"bill_depth_mm\": 15.0, \"flipper_length_mm\": 218.0, \"body_mass_g\": 4950.0, \"sex\": \"Female\"}, {\"species\": \"Gentoo\", \"island\": \"Biscoe\", \"bill_length_mm\": 52.2, \"bill_depth_mm\": 17.1, \"flipper_length_mm\": 228.0, \"body_mass_g\": 5400.0, \"sex\": \"Male\"}, {\"species\": \"Gentoo\", \"island\": \"Biscoe\", \"bill_length_mm\": 45.5, \"bill_depth_mm\": 14.5, \"flipper_length_mm\": 212.0, \"body_mass_g\": 4750.0, \"sex\": \"Female\"}, {\"species\": \"Gentoo\", \"island\": \"Biscoe\", \"bill_length_mm\": 49.5, \"bill_depth_mm\": 16.1, \"flipper_length_mm\": 224.0, \"body_mass_g\": 5650.0, \"sex\": \"Male\"}, {\"species\": \"Gentoo\", \"island\": \"Biscoe\", \"bill_length_mm\": 44.5, \"bill_depth_mm\": 14.7, \"flipper_length_mm\": 214.0, \"body_mass_g\": 4850.0, \"sex\": \"Female\"}, {\"species\": \"Gentoo\", \"island\": \"Biscoe\", \"bill_length_mm\": 50.8, \"bill_depth_mm\": 15.7, \"flipper_length_mm\": 226.0, \"body_mass_g\": 5200.0, \"sex\": \"Male\"}, {\"species\": \"Gentoo\", \"island\": \"Biscoe\", \"bill_length_mm\": 49.4, \"bill_depth_mm\": 15.8, \"flipper_length_mm\": 216.0, \"body_mass_g\": 4925.0, \"sex\": \"Male\"}, {\"species\": \"Gentoo\", \"island\": \"Biscoe\", \"bill_length_mm\": 46.9, \"bill_depth_mm\": 14.6, \"flipper_length_mm\": 222.0, \"body_mass_g\": 4875.0, \"sex\": \"Female\"}, {\"species\": \"Gentoo\", \"island\": \"Biscoe\", \"bill_length_mm\": 48.4, \"bill_depth_mm\": 14.4, \"flipper_length_mm\": 203.0, \"body_mass_g\": 4625.0, \"sex\": \"Female\"}, {\"species\": \"Gentoo\", \"island\": \"Biscoe\", \"bill_length_mm\": 51.1, \"bill_depth_mm\": 16.5, \"flipper_length_mm\": 225.0, \"body_mass_g\": 5250.0, \"sex\": \"Male\"}, {\"species\": \"Gentoo\", \"island\": \"Biscoe\", \"bill_length_mm\": 48.5, \"bill_depth_mm\": 15.0, \"flipper_length_mm\": 219.0, \"body_mass_g\": 4850.0, \"sex\": \"Female\"}, {\"species\": \"Gentoo\", \"island\": \"Biscoe\", \"bill_length_mm\": 55.9, \"bill_depth_mm\": 17.0, \"flipper_length_mm\": 228.0, \"body_mass_g\": 5600.0, \"sex\": \"Male\"}, {\"species\": \"Gentoo\", \"island\": \"Biscoe\", \"bill_length_mm\": 47.2, \"bill_depth_mm\": 15.5, \"flipper_length_mm\": 215.0, \"body_mass_g\": 4975.0, \"sex\": \"Female\"}, {\"species\": \"Gentoo\", \"island\": \"Biscoe\", \"bill_length_mm\": 49.1, \"bill_depth_mm\": 15.0, \"flipper_length_mm\": 228.0, \"body_mass_g\": 5500.0, \"sex\": \"Male\"}, {\"species\": \"Gentoo\", \"island\": \"Biscoe\", \"bill_length_mm\": 47.3, \"bill_depth_mm\": 13.8, \"flipper_length_mm\": 216.0, \"body_mass_g\": 4725.0, \"sex\": null}, {\"species\": \"Gentoo\", \"island\": \"Biscoe\", \"bill_length_mm\": 46.8, \"bill_depth_mm\": 16.1, \"flipper_length_mm\": 215.0, \"body_mass_g\": 5500.0, \"sex\": \"Male\"}, {\"species\": \"Gentoo\", \"island\": \"Biscoe\", \"bill_length_mm\": 41.7, \"bill_depth_mm\": 14.7, \"flipper_length_mm\": 210.0, \"body_mass_g\": 4700.0, \"sex\": \"Female\"}, {\"species\": \"Gentoo\", \"island\": \"Biscoe\", \"bill_length_mm\": 53.4, \"bill_depth_mm\": 15.8, \"flipper_length_mm\": 219.0, \"body_mass_g\": 5500.0, \"sex\": \"Male\"}, {\"species\": \"Gentoo\", \"island\": \"Biscoe\", \"bill_length_mm\": 43.3, \"bill_depth_mm\": 14.0, \"flipper_length_mm\": 208.0, \"body_mass_g\": 4575.0, \"sex\": \"Female\"}, {\"species\": \"Gentoo\", \"island\": \"Biscoe\", \"bill_length_mm\": 48.1, \"bill_depth_mm\": 15.1, \"flipper_length_mm\": 209.0, \"body_mass_g\": 5500.0, \"sex\": \"Male\"}, {\"species\": \"Gentoo\", \"island\": \"Biscoe\", \"bill_length_mm\": 50.5, \"bill_depth_mm\": 15.2, \"flipper_length_mm\": 216.0, \"body_mass_g\": 5000.0, \"sex\": \"Female\"}, {\"species\": \"Gentoo\", \"island\": \"Biscoe\", \"bill_length_mm\": 49.8, \"bill_depth_mm\": 15.9, \"flipper_length_mm\": 229.0, \"body_mass_g\": 5950.0, \"sex\": \"Male\"}, {\"species\": \"Gentoo\", \"island\": \"Biscoe\", \"bill_length_mm\": 43.5, \"bill_depth_mm\": 15.2, \"flipper_length_mm\": 213.0, \"body_mass_g\": 4650.0, \"sex\": \"Female\"}, {\"species\": \"Gentoo\", \"island\": \"Biscoe\", \"bill_length_mm\": 51.5, \"bill_depth_mm\": 16.3, \"flipper_length_mm\": 230.0, \"body_mass_g\": 5500.0, \"sex\": \"Male\"}, {\"species\": \"Gentoo\", \"island\": \"Biscoe\", \"bill_length_mm\": 46.2, \"bill_depth_mm\": 14.1, \"flipper_length_mm\": 217.0, \"body_mass_g\": 4375.0, \"sex\": \"Female\"}, {\"species\": \"Gentoo\", \"island\": \"Biscoe\", \"bill_length_mm\": 55.1, \"bill_depth_mm\": 16.0, \"flipper_length_mm\": 230.0, \"body_mass_g\": 5850.0, \"sex\": \"Male\"}, {\"species\": \"Gentoo\", \"island\": \"Biscoe\", \"bill_length_mm\": 44.5, \"bill_depth_mm\": 15.7, \"flipper_length_mm\": 217.0, \"body_mass_g\": 4875.0, \"sex\": null}, {\"species\": \"Gentoo\", \"island\": \"Biscoe\", \"bill_length_mm\": 48.8, \"bill_depth_mm\": 16.2, \"flipper_length_mm\": 222.0, \"body_mass_g\": 6000.0, \"sex\": \"Male\"}, {\"species\": \"Gentoo\", \"island\": \"Biscoe\", \"bill_length_mm\": 47.2, \"bill_depth_mm\": 13.7, \"flipper_length_mm\": 214.0, \"body_mass_g\": 4925.0, \"sex\": \"Female\"}, {\"species\": \"Gentoo\", \"island\": \"Biscoe\", \"bill_length_mm\": null, \"bill_depth_mm\": null, \"flipper_length_mm\": null, \"body_mass_g\": null, \"sex\": null}, {\"species\": \"Gentoo\", \"island\": \"Biscoe\", \"bill_length_mm\": 46.8, \"bill_depth_mm\": 14.3, \"flipper_length_mm\": 215.0, \"body_mass_g\": 4850.0, \"sex\": \"Female\"}, {\"species\": \"Gentoo\", \"island\": \"Biscoe\", \"bill_length_mm\": 50.4, \"bill_depth_mm\": 15.7, \"flipper_length_mm\": 222.0, \"body_mass_g\": 5750.0, \"sex\": \"Male\"}, {\"species\": \"Gentoo\", \"island\": \"Biscoe\", \"bill_length_mm\": 45.2, \"bill_depth_mm\": 14.8, \"flipper_length_mm\": 212.0, \"body_mass_g\": 5200.0, \"sex\": \"Female\"}, {\"species\": \"Gentoo\", \"island\": \"Biscoe\", \"bill_length_mm\": 49.9, \"bill_depth_mm\": 16.1, \"flipper_length_mm\": 213.0, \"body_mass_g\": 5400.0, \"sex\": \"Male\"}]}}, {\"mode\": \"vega-lite\"});\n",
       "</script>"
      ],
      "text/plain": [
       "alt.Chart(...)"
      ]
     },
     "execution_count": 8,
     "metadata": {},
     "output_type": "execute_result"
    }
   ],
   "source": [
    "import altair as alt\n",
    "import seaborn as sns\n",
    "\n",
    "# Load the Penguins dataset\n",
    "penguins = sns.load_dataset('penguins')\n",
    "\n",
    "# Declare the visualization in Altair\n",
    "scatter_plot = (\n",
    "    alt.Chart(penguins)  # Initiate a Chart object, passing the 'penguins' dataset to it.\n",
    "    .mark_circle()  # Specify the type of mark to use in the visualization, in this case, circles for a scatter plot.\n",
    "    .encode(  # Define the encoding channels to map data columns to visual properties.\n",
    "        x=alt.X( \n",
    "            'flipper_length_mm', # Map the 'flipper_length_mm' column to the x-axis.\n",
    "            # scale=alt.Scale(domain=[160, 240]), # Set the range of the x-axis.\n",
    "            title='Flipper Length (mm)',  # Set a beautiful title for the x-axis.\n",
    "            axis=alt.Axis(labels=True, ticks=True, labelFontSize=12, titleFontSize=14)  # Customize the appearance of the x-axis.\n",
    "            ),  \n",
    "        y=alt.Y(\n",
    "            'bill_length_mm', # Map the 'bill_length_mm' column to the y-axis.\n",
    "            # scale=alt.Scale(domain=[30, 60]), # Set the range of the y-axis.\n",
    "            title='Bill Length (mm)',  # Set a beautiful title for the y-axis.\n",
    "            axis=alt.Axis(labels=True, ticks=True, labelFontSize=12, titleFontSize=14)  # Customize the appearance of the y-axis.\n",
    "            ),\n",
    "        color='species'  # Map the 'species' column to the color of the marks.\n",
    "    ).properties(  # Set additional properties for the visualization.\n",
    "         title=alt.TitleParams(  # Set the title of the visualization with a TitleParams object.\n",
    "            text='Relationship between Flipper Length and Bill Length in Penguins', # Set the text of the title.\n",
    "            fontSize=18  # Increase the font size of the title.\n",
    "        ),\n",
    "        width=500,  # Set the width of the visualization.\n",
    "        height=300,  # Set the height of the visualization.\n",
    "    )\n",
    "    .configure_axis(\n",
    "        grid=False, # remove grid lines\n",
    "        labelFontSize=12, # increase font size of axis labels\n",
    "        titleFontSize=14 # increase font size of axis title\n",
    "        ) \n",
    "    .configure_view(\n",
    "        strokeWidth=0, # remove edges\n",
    "        )\n",
    "    # improve the legend\n",
    "    .configure_legend(\n",
    "        title=None, # remove the title of the legend\n",
    "        orient='right', # place the legend at the right side of the visualization       \n",
    "    )\n",
    ")\n",
    "\n",
    "# Display the visualization\n",
    "scatter_plot\n"
   ]
  },
  {
   "cell_type": "markdown",
   "metadata": {},
   "source": []
  },
  {
   "cell_type": "code",
   "execution_count": 5,
   "metadata": {},
   "outputs": [],
   "source": [
    "scatter_plot.save('scatter_plot.svg')"
   ]
  },
  {
   "cell_type": "markdown",
   "metadata": {},
   "source": [
    "<img src=\"scatter_plot.svg\" alt=\"image description\" width=\"500\"/>"
   ]
  },
  {
   "cell_type": "markdown",
   "metadata": {},
   "source": []
  },
  {
   "cell_type": "markdown",
   "metadata": {},
   "source": []
  },
  {
   "cell_type": "code",
   "execution_count": null,
   "metadata": {},
   "outputs": [],
   "source": []
  },
  {
   "cell_type": "markdown",
   "metadata": {},
   "source": []
  },
  {
   "cell_type": "markdown",
   "metadata": {},
   "source": []
  },
  {
   "cell_type": "markdown",
   "metadata": {},
   "source": [
    "To begin with Altair, you'll first need to install the library. You can do this via pip:\n",
    "\n",
    "```bash\n",
    "pip install altair\n",
    "```"
   ]
  },
  {
   "cell_type": "markdown",
   "metadata": {},
   "source": [
    "\n",
    "### Basics of Altair:\n",
    "- Explain the basic principles of Altair, such as its declarative nature and the underlying Vega-Lite visualization grammar.\n",
    "- Introduce the primary objects in Altair: `Chart`, `Mark`, and `Encoding`.\n",
    "  \n",
    "```markdown\n",
    "In Altair, a `Chart` object is used to specify the data, a `Mark` object is used to specify the type of visualization (e.g., bar, line, point), and `Encoding` objects are used to specify how data columns map to visual properties.\n",
    "```"
   ]
  },
  {
   "cell_type": "markdown",
   "metadata": {},
   "source": []
  }
 ],
 "metadata": {
  "kernelspec": {
   "display_name": "venv",
   "language": "python",
   "name": "python3"
  },
  "language_info": {
   "codemirror_mode": {
    "name": "ipython",
    "version": 3
   },
   "file_extension": ".py",
   "mimetype": "text/x-python",
   "name": "python",
   "nbconvert_exporter": "python",
   "pygments_lexer": "ipython3",
   "version": "3.9.18"
  }
 },
 "nbformat": 4,
 "nbformat_minor": 2
}
